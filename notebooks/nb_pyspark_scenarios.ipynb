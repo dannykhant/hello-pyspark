{
 "cells": [
  {
   "cell_type": "markdown",
   "metadata": {
    "application/vnd.databricks.v1+cell": {
     "cellMetadata": {},
     "inputWidgets": {},
     "nuid": "dfac3e5a-661f-4ec6-aaa8-820825bea062",
     "showTitle": false,
     "tableResultSettingsMap": {},
     "title": ""
    }
   },
   "source": [
    "### Scenario-1\n",
    "A retail company receives daily updates for its product catalog, including new products, price changes, and discontinued items. Instead of overwriting the entire catalog or simply appending new records, they need to upset the incoming data - updating existing products with the latest information and inserting new products - ensuring the catalog remains accurate and up-to-date in real-time."
   ]
  },
  {
   "cell_type": "code",
   "execution_count": 0,
   "metadata": {
    "application/vnd.databricks.v1+cell": {
     "cellMetadata": {
      "byteLimit": 2048000,
      "implicitDf": true,
      "rowLimit": 10000
     },
     "inputWidgets": {},
     "nuid": "e74b5eae-a3de-4462-89fd-7965948b8df1",
     "showTitle": false,
     "tableResultSettingsMap": {},
     "title": ""
    }
   },
   "outputs": [],
   "source": [
    "%sql\n",
    "create schema cat.source;"
   ]
  },
  {
   "cell_type": "code",
   "execution_count": 0,
   "metadata": {
    "application/vnd.databricks.v1+cell": {
     "cellMetadata": {
      "byteLimit": 2048000,
      "implicitDf": true,
      "rowLimit": 10000
     },
     "inputWidgets": {},
     "nuid": "3a2be859-2600-4338-bc97-acefd920a8a9",
     "showTitle": false,
     "tableResultSettingsMap": {},
     "title": ""
    }
   },
   "outputs": [],
   "source": [
    "%sql\n",
    "create table cat.source.products\n",
    "(\n",
    "  id int,\n",
    "  product_name string,\n",
    "  price double,\n",
    "  is_discontinued boolean,\n",
    "  updated_at timestamp\n",
    ")\n",
    "using delta;"
   ]
  },
  {
   "cell_type": "code",
   "execution_count": 0,
   "metadata": {
    "application/vnd.databricks.v1+cell": {
     "cellMetadata": {
      "byteLimit": 2048000,
      "implicitDf": true,
      "rowLimit": 10000
     },
     "inputWidgets": {},
     "nuid": "26833ec1-c294-4784-bfb3-009dbf316360",
     "showTitle": false,
     "tableResultSettingsMap": {},
     "title": ""
    }
   },
   "outputs": [
    {
     "output_type": "display_data",
     "data": {
      "text/html": [
       "<style scoped>\n",
       "  .table-result-container {\n",
       "    max-height: 300px;\n",
       "    overflow: auto;\n",
       "  }\n",
       "  table, th, td {\n",
       "    border: 1px solid black;\n",
       "    border-collapse: collapse;\n",
       "  }\n",
       "  th, td {\n",
       "    padding: 5px;\n",
       "  }\n",
       "  th {\n",
       "    text-align: left;\n",
       "  }\n",
       "</style><div class='table-result-container'><table class='table-result'><thead style='background-color: white'><tr><th>num_affected_rows</th><th>num_inserted_rows</th></tr></thead><tbody><tr><td>3</td><td>3</td></tr></tbody></table></div>"
      ]
     },
     "metadata": {
      "application/vnd.databricks.v1+output": {
       "addedWidgets": {},
       "aggData": [],
       "aggError": "",
       "aggOverflow": false,
       "aggSchema": [],
       "aggSeriesLimitReached": false,
       "aggType": "",
       "arguments": {},
       "columnCustomDisplayInfos": {},
       "data": [
        [
         3,
         3
        ]
       ],
       "datasetInfos": [
        {
         "name": "_sqldf",
         "schema": {
          "fields": [
           {
            "metadata": {},
            "name": "num_affected_rows",
            "nullable": true,
            "type": "long"
           },
           {
            "metadata": {},
            "name": "num_inserted_rows",
            "nullable": true,
            "type": "long"
           }
          ],
          "type": "struct"
         },
         "tableIdentifier": null,
         "typeStr": "pyspark.sql.connect.dataframe.DataFrame"
        }
       ],
       "dbfsResultPath": null,
       "isJsonSchema": true,
       "metadata": {
        "createTempViewForImplicitDf": true,
        "dataframeName": "_sqldf",
        "executionCount": 29
       },
       "overflow": false,
       "plotOptions": {
        "customPlotOptions": {},
        "displayType": "table",
        "pivotAggregation": null,
        "pivotColumns": null,
        "xColumns": null,
        "yColumns": null
       },
       "removedWidgets": [],
       "schema": [
        {
         "metadata": "{}",
         "name": "num_affected_rows",
         "type": "\"long\""
        },
        {
         "metadata": "{}",
         "name": "num_inserted_rows",
         "type": "\"long\""
        }
       ],
       "type": "table"
      }
     },
     "output_type": "display_data"
    }
   ],
   "source": [
    "%sql\n",
    "insert into cat.source.products\n",
    "values\n",
    "(1, 'productA', 70.0, false, current_timestamp()),\n",
    "(9, 'productZ', 20.0, false, current_timestamp()),\n",
    "(3, 'productC', 100.0, false, current_timestamp());"
   ]
  },
  {
   "cell_type": "code",
   "execution_count": 0,
   "metadata": {
    "application/vnd.databricks.v1+cell": {
     "cellMetadata": {
      "byteLimit": 2048000,
      "rowLimit": 10000
     },
     "inputWidgets": {},
     "nuid": "f63dfd40-6206-46e7-998e-e2154caec091",
     "showTitle": false,
     "tableResultSettingsMap": {},
     "title": ""
    }
   },
   "outputs": [],
   "source": [
    "from pyspark.sql.window import Window\n",
    "import pyspark.sql.functions as F"
   ]
  },
  {
   "cell_type": "code",
   "execution_count": 0,
   "metadata": {
    "application/vnd.databricks.v1+cell": {
     "cellMetadata": {
      "byteLimit": 2048000,
      "rowLimit": 10000
     },
     "inputWidgets": {},
     "nuid": "574026f5-10ca-4760-9026-e0f54b3ed5fb",
     "showTitle": false,
     "tableResultSettingsMap": {},
     "title": ""
    }
   },
   "outputs": [],
   "source": [
    "from delta.tables import DeltaTable\n",
    "\n",
    "df = spark.read.table(\"cat.source.products\")\n",
    "\n",
    "df_transform = df.withColumn(\"dedup\", F.row_number().over(Window.partitionBy(\"id\").orderBy(F.desc(\"updated_at\"))))\\\n",
    "                        .filter(\"dedup = 1\")\\\n",
    "                        .drop(\"dedup\")\n",
    "\n",
    "deltaTable = DeltaTable.forPath(spark, \"/Volumes/cat/sink/vol/products_sink\")"
   ]
  },
  {
   "cell_type": "code",
   "execution_count": 0,
   "metadata": {
    "application/vnd.databricks.v1+cell": {
     "cellMetadata": {
      "byteLimit": 2048000,
      "rowLimit": 10000
     },
     "inputWidgets": {},
     "nuid": "16ec88fe-b400-4da1-9286-a95fd1b8d203",
     "showTitle": false,
     "tableResultSettingsMap": {},
     "title": ""
    }
   },
   "outputs": [],
   "source": [
    "if len(dbutils.fs.ls(\"/Volumes/cat/sink/vol/products_sink\")) != 0:\n",
    "    deltaTable.alias(\"t\")\\\n",
    "        .merge(df_transform.alias(\"s\"), \"t.id = s.id\")\\\n",
    "        .whenMatchedUpdateAll(\"t.updated_at <= s.updated_at\")\\\n",
    "        .whenNotMatchedInsertAll()\\\n",
    "        .execute()\n",
    "\n",
    "else:\n",
    "    df_transform.write.format(\"delta\")\\\n",
    "        .mode(\"overwrite\")\\\n",
    "        .save(\"/Volumes/cat/sink/vol/products_sink\")"
   ]
  },
  {
   "cell_type": "code",
   "execution_count": 0,
   "metadata": {
    "application/vnd.databricks.v1+cell": {
     "cellMetadata": {
      "byteLimit": 2048000,
      "implicitDf": true,
      "rowLimit": 10000
     },
     "inputWidgets": {},
     "nuid": "c31df145-f5e0-40f3-a3ad-9abdf1942c77",
     "showTitle": false,
     "tableResultSettingsMap": {},
     "title": ""
    }
   },
   "outputs": [
    {
     "output_type": "display_data",
     "data": {
      "text/html": [
       "<style scoped>\n",
       "  .table-result-container {\n",
       "    max-height: 300px;\n",
       "    overflow: auto;\n",
       "  }\n",
       "  table, th, td {\n",
       "    border: 1px solid black;\n",
       "    border-collapse: collapse;\n",
       "  }\n",
       "  th, td {\n",
       "    padding: 5px;\n",
       "  }\n",
       "  th {\n",
       "    text-align: left;\n",
       "  }\n",
       "</style><div class='table-result-container'><table class='table-result'><thead style='background-color: white'><tr><th>id</th><th>product_name</th><th>price</th><th>is_discontinued</th><th>updated_at</th></tr></thead><tbody><tr><td>1</td><td>product1</td><td>30.0</td><td>false</td><td>2025-08-28T08:05:01.694Z</td></tr><tr><td>4</td><td>product4</td><td>10.0</td><td>false</td><td>2025-08-28T07:53:52.326Z</td></tr><tr><td>6</td><td>product2</td><td>20.0</td><td>false</td><td>2025-08-28T08:05:01.694Z</td></tr><tr><td>3</td><td>product3</td><td>30.0</td><td>true</td><td>2025-08-28T07:53:52.326Z</td></tr><tr><td>2</td><td>product2</td><td>20.0</td><td>false</td><td>2025-08-28T07:53:52.326Z</td></tr><tr><td>5</td><td>product5</td><td>20.0</td><td>false</td><td>2025-08-28T07:53:52.326Z</td></tr></tbody></table></div>"
      ]
     },
     "metadata": {
      "application/vnd.databricks.v1+output": {
       "addedWidgets": {},
       "aggData": [],
       "aggError": "",
       "aggOverflow": false,
       "aggSchema": [],
       "aggSeriesLimitReached": false,
       "aggType": "",
       "arguments": {},
       "columnCustomDisplayInfos": {},
       "data": [
        [
         1,
         "product1",
         30.0,
         false,
         "2025-08-28T08:05:01.694Z"
        ],
        [
         4,
         "product4",
         10.0,
         false,
         "2025-08-28T07:53:52.326Z"
        ],
        [
         6,
         "product2",
         20.0,
         false,
         "2025-08-28T08:05:01.694Z"
        ],
        [
         3,
         "product3",
         30.0,
         true,
         "2025-08-28T07:53:52.326Z"
        ],
        [
         2,
         "product2",
         20.0,
         false,
         "2025-08-28T07:53:52.326Z"
        ],
        [
         5,
         "product5",
         20.0,
         false,
         "2025-08-28T07:53:52.326Z"
        ]
       ],
       "datasetInfos": [
        {
         "name": "_sqldf",
         "schema": {
          "fields": [
           {
            "metadata": {},
            "name": "id",
            "nullable": true,
            "type": "integer"
           },
           {
            "metadata": {},
            "name": "product_name",
            "nullable": true,
            "type": "string"
           },
           {
            "metadata": {},
            "name": "price",
            "nullable": true,
            "type": "double"
           },
           {
            "metadata": {},
            "name": "is_discontinued",
            "nullable": true,
            "type": "boolean"
           },
           {
            "metadata": {},
            "name": "updated_at",
            "nullable": true,
            "type": "timestamp"
           }
          ],
          "type": "struct"
         },
         "tableIdentifier": null,
         "typeStr": "pyspark.sql.connect.dataframe.DataFrame"
        }
       ],
       "dbfsResultPath": null,
       "isJsonSchema": true,
       "metadata": {
        "createTempViewForImplicitDf": true,
        "dataframeName": "_sqldf",
        "executionCount": 40
       },
       "overflow": false,
       "plotOptions": {
        "customPlotOptions": {},
        "displayType": "table",
        "pivotAggregation": null,
        "pivotColumns": null,
        "xColumns": null,
        "yColumns": null
       },
       "removedWidgets": [],
       "schema": [
        {
         "metadata": "{}",
         "name": "id",
         "type": "\"integer\""
        },
        {
         "metadata": "{}",
         "name": "product_name",
         "type": "\"string\""
        },
        {
         "metadata": "{}",
         "name": "price",
         "type": "\"double\""
        },
        {
         "metadata": "{}",
         "name": "is_discontinued",
         "type": "\"boolean\""
        },
        {
         "metadata": "{}",
         "name": "updated_at",
         "type": "\"timestamp\""
        }
       ],
       "type": "table"
      }
     },
     "output_type": "display_data"
    }
   ],
   "source": [
    "%sql\n",
    "select * from delta.`/Volumes/cat/sink/vol/products_sink`;"
   ]
  },
  {
   "cell_type": "markdown",
   "metadata": {
    "application/vnd.databricks.v1+cell": {
     "cellMetadata": {},
     "inputWidgets": {},
     "nuid": "0f29f72b-da64-4a45-8e7f-c47bdef2abd3",
     "showTitle": false,
     "tableResultSettingsMap": {},
     "title": ""
    }
   },
   "source": [
    "### Scenario-2\n",
    "A retail company receives daily sales transaction files from multiple store locations in a data lake. Instead of reprocessing all historical data every day, the DE team users spark structured streaming to incrementally load only the newly arrived files into a Delta lake. This ensures timely updates to analytics dashboards while optimizing compute costs and processing time."
   ]
  },
  {
   "cell_type": "code",
   "execution_count": 0,
   "metadata": {
    "application/vnd.databricks.v1+cell": {
     "cellMetadata": {
      "byteLimit": 2048000,
      "rowLimit": 10000
     },
     "inputWidgets": {},
     "nuid": "cd104c27-e53c-4856-aede-a081a8fa8d05",
     "showTitle": false,
     "tableResultSettingsMap": {},
     "title": ""
    }
   },
   "outputs": [],
   "source": [
    "order_schema = \"\"\"\n",
    "    order_id int,\n",
    "    customer_id\tint,\n",
    "    order_date date,\n",
    "    amount double\n",
    "\"\"\""
   ]
  },
  {
   "cell_type": "code",
   "execution_count": 0,
   "metadata": {
    "application/vnd.databricks.v1+cell": {
     "cellMetadata": {
      "byteLimit": 2048000,
      "rowLimit": 10000
     },
     "inputWidgets": {},
     "nuid": "1049c17b-3738-469b-925b-5027d657148a",
     "showTitle": false,
     "tableResultSettingsMap": {},
     "title": ""
    }
   },
   "outputs": [],
   "source": [
    "src = spark.readStream.format(\"csv\")\\\n",
    "                .option(\"header\", True)\\\n",
    "                .schema(order_schema)\\\n",
    "                .load(\"/Volumes/cat/source/vol/csv_source/\")"
   ]
  },
  {
   "cell_type": "code",
   "execution_count": 0,
   "metadata": {
    "application/vnd.databricks.v1+cell": {
     "cellMetadata": {
      "byteLimit": 2048000,
      "rowLimit": 10000
     },
     "inputWidgets": {},
     "nuid": "c30e8708-1949-4132-9f6c-e1258262471e",
     "showTitle": false,
     "tableResultSettingsMap": {},
     "title": ""
    }
   },
   "outputs": [
    {
     "output_type": "execute_result",
     "data": {
      "text/plain": [
       "<pyspark.sql.connect.streaming.query.StreamingQuery at 0x7ffa68ac9340>"
      ]
     },
     "execution_count": 65,
     "metadata": {},
     "output_type": "execute_result"
    }
   ],
   "source": [
    "src.writeStream\\\n",
    "    .format(\"delta\")\\\n",
    "    .option(\"checkpointLocation\", \"/Volumes/cat/sink/vol/orders_sink/checkpoint/\")\\\n",
    "    .trigger(once=True)\\\n",
    "    .start(\"/Volumes/cat/sink/vol/orders_sink/data/\")"
   ]
  },
  {
   "cell_type": "code",
   "execution_count": 0,
   "metadata": {
    "application/vnd.databricks.v1+cell": {
     "cellMetadata": {
      "byteLimit": 2048000,
      "implicitDf": true,
      "rowLimit": 10000
     },
     "inputWidgets": {},
     "nuid": "90f0fee3-672e-4769-8b1c-2c15319eabdc",
     "showTitle": false,
     "tableResultSettingsMap": {},
     "title": ""
    }
   },
   "outputs": [
    {
     "output_type": "display_data",
     "data": {
      "text/html": [
       "<style scoped>\n",
       "  .table-result-container {\n",
       "    max-height: 300px;\n",
       "    overflow: auto;\n",
       "  }\n",
       "  table, th, td {\n",
       "    border: 1px solid black;\n",
       "    border-collapse: collapse;\n",
       "  }\n",
       "  th, td {\n",
       "    padding: 5px;\n",
       "  }\n",
       "  th {\n",
       "    text-align: left;\n",
       "  }\n",
       "</style><div class='table-result-container'><table class='table-result'><thead style='background-color: white'><tr><th>order_id</th><th>customer_id</th><th>order_date</th><th>amount</th></tr></thead><tbody><tr><td>6</td><td>100</td><td>2025-08-07</td><td>248.69</td></tr><tr><td>7</td><td>102</td><td>2025-08-08</td><td>243.85</td></tr><tr><td>8</td><td>101</td><td>2025-08-09</td><td>308.31</td></tr><tr><td>9</td><td>105</td><td>2025-08-10</td><td>367.45</td></tr><tr><td>10</td><td>105</td><td>2025-08-11</td><td>328.2</td></tr><tr><td>1</td><td>101</td><td>2025-08-02</td><td>246.84</td></tr><tr><td>2</td><td>104</td><td>2025-08-03</td><td>111.3</td></tr><tr><td>3</td><td>103</td><td>2025-08-04</td><td>52.0</td></tr><tr><td>4</td><td>103</td><td>2025-08-05</td><td>98.7</td></tr><tr><td>5</td><td>102</td><td>2025-08-06</td><td>392.67</td></tr></tbody></table></div>"
      ]
     },
     "metadata": {
      "application/vnd.databricks.v1+output": {
       "addedWidgets": {},
       "aggData": [],
       "aggError": "",
       "aggOverflow": false,
       "aggSchema": [],
       "aggSeriesLimitReached": false,
       "aggType": "",
       "arguments": {},
       "columnCustomDisplayInfos": {},
       "data": [
        [
         6,
         100,
         "2025-08-07",
         248.69
        ],
        [
         7,
         102,
         "2025-08-08",
         243.85
        ],
        [
         8,
         101,
         "2025-08-09",
         308.31
        ],
        [
         9,
         105,
         "2025-08-10",
         367.45
        ],
        [
         10,
         105,
         "2025-08-11",
         328.2
        ],
        [
         1,
         101,
         "2025-08-02",
         246.84
        ],
        [
         2,
         104,
         "2025-08-03",
         111.3
        ],
        [
         3,
         103,
         "2025-08-04",
         52.0
        ],
        [
         4,
         103,
         "2025-08-05",
         98.7
        ],
        [
         5,
         102,
         "2025-08-06",
         392.67
        ]
       ],
       "datasetInfos": [
        {
         "name": "_sqldf",
         "schema": {
          "fields": [
           {
            "metadata": {},
            "name": "order_id",
            "nullable": true,
            "type": "integer"
           },
           {
            "metadata": {},
            "name": "customer_id",
            "nullable": true,
            "type": "integer"
           },
           {
            "metadata": {},
            "name": "order_date",
            "nullable": true,
            "type": "date"
           },
           {
            "metadata": {},
            "name": "amount",
            "nullable": true,
            "type": "double"
           }
          ],
          "type": "struct"
         },
         "tableIdentifier": null,
         "typeStr": "pyspark.sql.connect.dataframe.DataFrame"
        }
       ],
       "dbfsResultPath": null,
       "isJsonSchema": true,
       "metadata": {
        "createTempViewForImplicitDf": true,
        "dataframeName": "_sqldf",
        "executionCount": 66
       },
       "overflow": false,
       "plotOptions": {
        "customPlotOptions": {},
        "displayType": "table",
        "pivotAggregation": null,
        "pivotColumns": null,
        "xColumns": null,
        "yColumns": null
       },
       "removedWidgets": [],
       "schema": [
        {
         "metadata": "{}",
         "name": "order_id",
         "type": "\"integer\""
        },
        {
         "metadata": "{}",
         "name": "customer_id",
         "type": "\"integer\""
        },
        {
         "metadata": "{}",
         "name": "order_date",
         "type": "\"date\""
        },
        {
         "metadata": "{}",
         "name": "amount",
         "type": "\"double\""
        }
       ],
       "type": "table"
      }
     },
     "output_type": "display_data"
    }
   ],
   "source": [
    "%sql\n",
    "select * from delta.`/Volumes/cat/sink/vol/orders_sink/data/`;"
   ]
  },
  {
   "cell_type": "markdown",
   "metadata": {
    "application/vnd.databricks.v1+cell": {
     "cellMetadata": {},
     "inputWidgets": {},
     "nuid": "3d6a9f25-82bb-4707-8000-b1e2bbaeeb3d",
     "showTitle": false,
     "tableResultSettingsMap": {},
     "title": ""
    }
   },
   "source": [
    "### Scenario-3\n",
    "An e-commerce platform receives customer order details from its mobile application in JSON format through a streaming pipeline. The JSON contains nested fields such as customer information, payment details, and a list of purchased items. To store and analyze this data efficiently in a data warehouse, the nested structure must be flattened into a tabular format using Pyspark, ensuring all relevant attributes are readily accessible for reporting and analytics."
   ]
  },
  {
   "cell_type": "code",
   "execution_count": 0,
   "metadata": {
    "application/vnd.databricks.v1+cell": {
     "cellMetadata": {
      "byteLimit": 2048000,
      "rowLimit": 10000
     },
     "inputWidgets": {},
     "nuid": "b400af71-b0f4-4e74-aa54-10e46504577d",
     "showTitle": false,
     "tableResultSettingsMap": {},
     "title": ""
    }
   },
   "outputs": [],
   "source": [
    "df = spark.read.format(\"json\")\\\n",
    "            .option(\"multiline\", True)\\\n",
    "            .load(\"/Volumes/cat/source/vol/json_source/\")"
   ]
  },
  {
   "cell_type": "code",
   "execution_count": 0,
   "metadata": {
    "application/vnd.databricks.v1+cell": {
     "cellMetadata": {
      "byteLimit": 2048000,
      "rowLimit": 10000
     },
     "inputWidgets": {},
     "nuid": "b50e072a-949f-4528-9f30-3213b0709398",
     "showTitle": false,
     "tableResultSettingsMap": {},
     "title": ""
    }
   },
   "outputs": [
    {
     "output_type": "display_data",
     "data": {
      "text/html": [
       "<style scoped>\n",
       "  .table-result-container {\n",
       "    max-height: 300px;\n",
       "    overflow: auto;\n",
       "  }\n",
       "  table, th, td {\n",
       "    border: 1px solid black;\n",
       "    border-collapse: collapse;\n",
       "  }\n",
       "  th, td {\n",
       "    padding: 5px;\n",
       "  }\n",
       "  th {\n",
       "    text-align: left;\n",
       "  }\n",
       "</style><div class='table-result-container'><table class='table-result'><thead style='background-color: white'><tr><th>customer</th><th>delivery_updates</th><th>items</th><th>order_id</th><th>order_timestamp</th><th>payment</th></tr></thead><tbody><tr><td>List(CUST101, john.doe@example.com, List(Toronto, Canada), John Doe)</td><td>List(Order Placed, Packed, Shipped, Out for Delivery)</td><td>List(List(ITEM1001, 25.5, Wireless Mouse, 2), List(ITEM1002, 199.75, Mechanical Keyboard, 1))</td><td>ORD001</td><td>2025-08-15T10:45:30Z</td><td>List(250.75, CAD, Credit Card)</td></tr><tr><td>List(CUST102, jane.smith@example.com, List(Vancouver, Canada), Jane Smith)</td><td>List(Order Placed, Packed, Shipped)</td><td>List(List(ITEM1003, 89.99, USB-C Hub, 1))</td><td>ORD002</td><td>2025-08-15T11:10:15Z</td><td>List(89.99, CAD, PayPal)</td></tr></tbody></table></div>"
      ]
     },
     "metadata": {
      "application/vnd.databricks.v1+output": {
       "addedWidgets": {},
       "aggData": [],
       "aggError": "",
       "aggOverflow": false,
       "aggSchema": [],
       "aggSeriesLimitReached": false,
       "aggType": "",
       "arguments": {},
       "columnCustomDisplayInfos": {},
       "data": [
        [
         [
          "CUST101",
          "john.doe@example.com",
          [
           "Toronto",
           "Canada"
          ],
          "John Doe"
         ],
         [
          "Order Placed",
          "Packed",
          "Shipped",
          "Out for Delivery"
         ],
         [
          [
           "ITEM1001",
           25.5,
           "Wireless Mouse",
           2
          ],
          [
           "ITEM1002",
           199.75,
           "Mechanical Keyboard",
           1
          ]
         ],
         "ORD001",
         "2025-08-15T10:45:30Z",
         [
          250.75,
          "CAD",
          "Credit Card"
         ]
        ],
        [
         [
          "CUST102",
          "jane.smith@example.com",
          [
           "Vancouver",
           "Canada"
          ],
          "Jane Smith"
         ],
         [
          "Order Placed",
          "Packed",
          "Shipped"
         ],
         [
          [
           "ITEM1003",
           89.99,
           "USB-C Hub",
           1
          ]
         ],
         "ORD002",
         "2025-08-15T11:10:15Z",
         [
          89.99,
          "CAD",
          "PayPal"
         ]
        ]
       ],
       "datasetInfos": [],
       "dbfsResultPath": null,
       "isJsonSchema": true,
       "metadata": {},
       "overflow": false,
       "plotOptions": {
        "customPlotOptions": {},
        "displayType": "table",
        "pivotAggregation": null,
        "pivotColumns": null,
        "xColumns": null,
        "yColumns": null
       },
       "removedWidgets": [],
       "schema": [
        {
         "metadata": "{}",
         "name": "customer",
         "type": "{\"fields\":[{\"metadata\":{},\"name\":\"customer_id\",\"nullable\":true,\"type\":\"string\"},{\"metadata\":{},\"name\":\"email\",\"nullable\":true,\"type\":\"string\"},{\"metadata\":{},\"name\":\"location\",\"nullable\":true,\"type\":{\"fields\":[{\"metadata\":{},\"name\":\"city\",\"nullable\":true,\"type\":\"string\"},{\"metadata\":{},\"name\":\"country\",\"nullable\":true,\"type\":\"string\"}],\"type\":\"struct\"}},{\"metadata\":{},\"name\":\"name\",\"nullable\":true,\"type\":\"string\"}],\"type\":\"struct\"}"
        },
        {
         "metadata": "{}",
         "name": "delivery_updates",
         "type": "{\"containsNull\":true,\"elementType\":\"string\",\"type\":\"array\"}"
        },
        {
         "metadata": "{}",
         "name": "items",
         "type": "{\"containsNull\":true,\"elementType\":{\"fields\":[{\"metadata\":{},\"name\":\"item_id\",\"nullable\":true,\"type\":\"string\"},{\"metadata\":{},\"name\":\"price_per_unit\",\"nullable\":true,\"type\":\"double\"},{\"metadata\":{},\"name\":\"product_name\",\"nullable\":true,\"type\":\"string\"},{\"metadata\":{},\"name\":\"quantity\",\"nullable\":true,\"type\":\"long\"}],\"type\":\"struct\"},\"type\":\"array\"}"
        },
        {
         "metadata": "{}",
         "name": "order_id",
         "type": "\"string\""
        },
        {
         "metadata": "{}",
         "name": "order_timestamp",
         "type": "\"string\""
        },
        {
         "metadata": "{}",
         "name": "payment",
         "type": "{\"fields\":[{\"metadata\":{},\"name\":\"amount\",\"nullable\":true,\"type\":\"double\"},{\"metadata\":{},\"name\":\"currency\",\"nullable\":true,\"type\":\"string\"},{\"metadata\":{},\"name\":\"method\",\"nullable\":true,\"type\":\"string\"}],\"type\":\"struct\"}"
        }
       ],
       "type": "table"
      }
     },
     "output_type": "display_data"
    }
   ],
   "source": [
    "display(df)"
   ]
  },
  {
   "cell_type": "code",
   "execution_count": 0,
   "metadata": {
    "application/vnd.databricks.v1+cell": {
     "cellMetadata": {
      "byteLimit": 2048000,
      "rowLimit": 10000
     },
     "inputWidgets": {},
     "nuid": "543dc9d1-54df-41a7-866c-4e491f8a8553",
     "showTitle": false,
     "tableResultSettingsMap": {},
     "title": ""
    }
   },
   "outputs": [],
   "source": [
    "df_transform = df.withColumn(\"delivery_updates\", F.explode(F.col(\"delivery_updates\")))\\\n",
    "                 .withColumn(\"items\", F.explode(F.col(\"items\")))\n",
    "\n",
    "df_transform = df_transform.select(\"customer.customer_id\", \"customer.email\", \"customer.location.city\", \"customer.location.country\", \"customer.name\", \"delivery_updates\", \"items.item_id\", \"items.price_per_unit\", \"items.product_name\", \"items.quantity\", \"order_id\", \"order_timestamp\", \"payment.amount\", \"payment.currency\", \"payment.method\")"
   ]
  },
  {
   "cell_type": "code",
   "execution_count": 0,
   "metadata": {
    "application/vnd.databricks.v1+cell": {
     "cellMetadata": {
      "byteLimit": 2048000,
      "rowLimit": 10000
     },
     "inputWidgets": {},
     "nuid": "f8aa1294-2cfd-45a3-88e7-867add82fb55",
     "showTitle": false,
     "tableResultSettingsMap": {},
     "title": ""
    }
   },
   "outputs": [
    {
     "output_type": "execute_result",
     "data": {
      "text/plain": [
       "DataFrame[num_affected_rows: bigint, num_inserted_rows: bigint]"
      ]
     },
     "execution_count": 95,
     "metadata": {},
     "output_type": "execute_result"
    }
   ],
   "source": [
    "df_transform.createOrReplaceTempView(\"orders\")\n",
    "\n",
    "spark.sql(f\"\"\"\n",
    "          create table cat.sink.orders\n",
    "          select * from orders\n",
    "          \"\"\")"
   ]
  },
  {
   "cell_type": "code",
   "execution_count": 0,
   "metadata": {
    "application/vnd.databricks.v1+cell": {
     "cellMetadata": {
      "byteLimit": 2048000,
      "implicitDf": true,
      "rowLimit": 10000
     },
     "inputWidgets": {},
     "nuid": "69999601-8200-4360-bfb5-71625b162079",
     "showTitle": false,
     "tableResultSettingsMap": {},
     "title": ""
    }
   },
   "outputs": [
    {
     "output_type": "display_data",
     "data": {
      "text/html": [
       "<style scoped>\n",
       "  .table-result-container {\n",
       "    max-height: 300px;\n",
       "    overflow: auto;\n",
       "  }\n",
       "  table, th, td {\n",
       "    border: 1px solid black;\n",
       "    border-collapse: collapse;\n",
       "  }\n",
       "  th, td {\n",
       "    padding: 5px;\n",
       "  }\n",
       "  th {\n",
       "    text-align: left;\n",
       "  }\n",
       "</style><div class='table-result-container'><table class='table-result'><thead style='background-color: white'><tr><th>customer_id</th><th>email</th><th>city</th><th>country</th><th>name</th><th>delivery_updates</th><th>item_id</th><th>price_per_unit</th><th>product_name</th><th>quantity</th><th>order_id</th><th>order_timestamp</th><th>amount</th><th>currency</th><th>method</th></tr></thead><tbody><tr><td>CUST101</td><td>john.doe@example.com</td><td>Toronto</td><td>Canada</td><td>John Doe</td><td>Order Placed</td><td>ITEM1001</td><td>25.5</td><td>Wireless Mouse</td><td>2</td><td>ORD001</td><td>2025-08-15T10:45:30Z</td><td>250.75</td><td>CAD</td><td>Credit Card</td></tr><tr><td>CUST101</td><td>john.doe@example.com</td><td>Toronto</td><td>Canada</td><td>John Doe</td><td>Order Placed</td><td>ITEM1002</td><td>199.75</td><td>Mechanical Keyboard</td><td>1</td><td>ORD001</td><td>2025-08-15T10:45:30Z</td><td>250.75</td><td>CAD</td><td>Credit Card</td></tr><tr><td>CUST101</td><td>john.doe@example.com</td><td>Toronto</td><td>Canada</td><td>John Doe</td><td>Packed</td><td>ITEM1001</td><td>25.5</td><td>Wireless Mouse</td><td>2</td><td>ORD001</td><td>2025-08-15T10:45:30Z</td><td>250.75</td><td>CAD</td><td>Credit Card</td></tr><tr><td>CUST101</td><td>john.doe@example.com</td><td>Toronto</td><td>Canada</td><td>John Doe</td><td>Packed</td><td>ITEM1002</td><td>199.75</td><td>Mechanical Keyboard</td><td>1</td><td>ORD001</td><td>2025-08-15T10:45:30Z</td><td>250.75</td><td>CAD</td><td>Credit Card</td></tr><tr><td>CUST101</td><td>john.doe@example.com</td><td>Toronto</td><td>Canada</td><td>John Doe</td><td>Shipped</td><td>ITEM1001</td><td>25.5</td><td>Wireless Mouse</td><td>2</td><td>ORD001</td><td>2025-08-15T10:45:30Z</td><td>250.75</td><td>CAD</td><td>Credit Card</td></tr><tr><td>CUST101</td><td>john.doe@example.com</td><td>Toronto</td><td>Canada</td><td>John Doe</td><td>Shipped</td><td>ITEM1002</td><td>199.75</td><td>Mechanical Keyboard</td><td>1</td><td>ORD001</td><td>2025-08-15T10:45:30Z</td><td>250.75</td><td>CAD</td><td>Credit Card</td></tr><tr><td>CUST101</td><td>john.doe@example.com</td><td>Toronto</td><td>Canada</td><td>John Doe</td><td>Out for Delivery</td><td>ITEM1001</td><td>25.5</td><td>Wireless Mouse</td><td>2</td><td>ORD001</td><td>2025-08-15T10:45:30Z</td><td>250.75</td><td>CAD</td><td>Credit Card</td></tr><tr><td>CUST101</td><td>john.doe@example.com</td><td>Toronto</td><td>Canada</td><td>John Doe</td><td>Out for Delivery</td><td>ITEM1002</td><td>199.75</td><td>Mechanical Keyboard</td><td>1</td><td>ORD001</td><td>2025-08-15T10:45:30Z</td><td>250.75</td><td>CAD</td><td>Credit Card</td></tr><tr><td>CUST102</td><td>jane.smith@example.com</td><td>Vancouver</td><td>Canada</td><td>Jane Smith</td><td>Order Placed</td><td>ITEM1003</td><td>89.99</td><td>USB-C Hub</td><td>1</td><td>ORD002</td><td>2025-08-15T11:10:15Z</td><td>89.99</td><td>CAD</td><td>PayPal</td></tr><tr><td>CUST102</td><td>jane.smith@example.com</td><td>Vancouver</td><td>Canada</td><td>Jane Smith</td><td>Packed</td><td>ITEM1003</td><td>89.99</td><td>USB-C Hub</td><td>1</td><td>ORD002</td><td>2025-08-15T11:10:15Z</td><td>89.99</td><td>CAD</td><td>PayPal</td></tr><tr><td>CUST102</td><td>jane.smith@example.com</td><td>Vancouver</td><td>Canada</td><td>Jane Smith</td><td>Shipped</td><td>ITEM1003</td><td>89.99</td><td>USB-C Hub</td><td>1</td><td>ORD002</td><td>2025-08-15T11:10:15Z</td><td>89.99</td><td>CAD</td><td>PayPal</td></tr></tbody></table></div>"
      ]
     },
     "metadata": {
      "application/vnd.databricks.v1+output": {
       "addedWidgets": {},
       "aggData": [],
       "aggError": "",
       "aggOverflow": false,
       "aggSchema": [],
       "aggSeriesLimitReached": false,
       "aggType": "",
       "arguments": {},
       "columnCustomDisplayInfos": {},
       "data": [
        [
         "CUST101",
         "john.doe@example.com",
         "Toronto",
         "Canada",
         "John Doe",
         "Order Placed",
         "ITEM1001",
         25.5,
         "Wireless Mouse",
         2,
         "ORD001",
         "2025-08-15T10:45:30Z",
         250.75,
         "CAD",
         "Credit Card"
        ],
        [
         "CUST101",
         "john.doe@example.com",
         "Toronto",
         "Canada",
         "John Doe",
         "Order Placed",
         "ITEM1002",
         199.75,
         "Mechanical Keyboard",
         1,
         "ORD001",
         "2025-08-15T10:45:30Z",
         250.75,
         "CAD",
         "Credit Card"
        ],
        [
         "CUST101",
         "john.doe@example.com",
         "Toronto",
         "Canada",
         "John Doe",
         "Packed",
         "ITEM1001",
         25.5,
         "Wireless Mouse",
         2,
         "ORD001",
         "2025-08-15T10:45:30Z",
         250.75,
         "CAD",
         "Credit Card"
        ],
        [
         "CUST101",
         "john.doe@example.com",
         "Toronto",
         "Canada",
         "John Doe",
         "Packed",
         "ITEM1002",
         199.75,
         "Mechanical Keyboard",
         1,
         "ORD001",
         "2025-08-15T10:45:30Z",
         250.75,
         "CAD",
         "Credit Card"
        ],
        [
         "CUST101",
         "john.doe@example.com",
         "Toronto",
         "Canada",
         "John Doe",
         "Shipped",
         "ITEM1001",
         25.5,
         "Wireless Mouse",
         2,
         "ORD001",
         "2025-08-15T10:45:30Z",
         250.75,
         "CAD",
         "Credit Card"
        ],
        [
         "CUST101",
         "john.doe@example.com",
         "Toronto",
         "Canada",
         "John Doe",
         "Shipped",
         "ITEM1002",
         199.75,
         "Mechanical Keyboard",
         1,
         "ORD001",
         "2025-08-15T10:45:30Z",
         250.75,
         "CAD",
         "Credit Card"
        ],
        [
         "CUST101",
         "john.doe@example.com",
         "Toronto",
         "Canada",
         "John Doe",
         "Out for Delivery",
         "ITEM1001",
         25.5,
         "Wireless Mouse",
         2,
         "ORD001",
         "2025-08-15T10:45:30Z",
         250.75,
         "CAD",
         "Credit Card"
        ],
        [
         "CUST101",
         "john.doe@example.com",
         "Toronto",
         "Canada",
         "John Doe",
         "Out for Delivery",
         "ITEM1002",
         199.75,
         "Mechanical Keyboard",
         1,
         "ORD001",
         "2025-08-15T10:45:30Z",
         250.75,
         "CAD",
         "Credit Card"
        ],
        [
         "CUST102",
         "jane.smith@example.com",
         "Vancouver",
         "Canada",
         "Jane Smith",
         "Order Placed",
         "ITEM1003",
         89.99,
         "USB-C Hub",
         1,
         "ORD002",
         "2025-08-15T11:10:15Z",
         89.99,
         "CAD",
         "PayPal"
        ],
        [
         "CUST102",
         "jane.smith@example.com",
         "Vancouver",
         "Canada",
         "Jane Smith",
         "Packed",
         "ITEM1003",
         89.99,
         "USB-C Hub",
         1,
         "ORD002",
         "2025-08-15T11:10:15Z",
         89.99,
         "CAD",
         "PayPal"
        ],
        [
         "CUST102",
         "jane.smith@example.com",
         "Vancouver",
         "Canada",
         "Jane Smith",
         "Shipped",
         "ITEM1003",
         89.99,
         "USB-C Hub",
         1,
         "ORD002",
         "2025-08-15T11:10:15Z",
         89.99,
         "CAD",
         "PayPal"
        ]
       ],
       "datasetInfos": [
        {
         "name": "_sqldf",
         "schema": {
          "fields": [
           {
            "metadata": {},
            "name": "customer_id",
            "nullable": true,
            "type": "string"
           },
           {
            "metadata": {},
            "name": "email",
            "nullable": true,
            "type": "string"
           },
           {
            "metadata": {},
            "name": "city",
            "nullable": true,
            "type": "string"
           },
           {
            "metadata": {},
            "name": "country",
            "nullable": true,
            "type": "string"
           },
           {
            "metadata": {},
            "name": "name",
            "nullable": true,
            "type": "string"
           },
           {
            "metadata": {},
            "name": "delivery_updates",
            "nullable": true,
            "type": "string"
           },
           {
            "metadata": {},
            "name": "item_id",
            "nullable": true,
            "type": "string"
           },
           {
            "metadata": {},
            "name": "price_per_unit",
            "nullable": true,
            "type": "double"
           },
           {
            "metadata": {},
            "name": "product_name",
            "nullable": true,
            "type": "string"
           },
           {
            "metadata": {},
            "name": "quantity",
            "nullable": true,
            "type": "long"
           },
           {
            "metadata": {},
            "name": "order_id",
            "nullable": true,
            "type": "string"
           },
           {
            "metadata": {},
            "name": "order_timestamp",
            "nullable": true,
            "type": "string"
           },
           {
            "metadata": {},
            "name": "amount",
            "nullable": true,
            "type": "double"
           },
           {
            "metadata": {},
            "name": "currency",
            "nullable": true,
            "type": "string"
           },
           {
            "metadata": {},
            "name": "method",
            "nullable": true,
            "type": "string"
           }
          ],
          "type": "struct"
         },
         "tableIdentifier": null,
         "typeStr": "pyspark.sql.connect.dataframe.DataFrame"
        }
       ],
       "dbfsResultPath": null,
       "isJsonSchema": true,
       "metadata": {
        "createTempViewForImplicitDf": true,
        "dataframeName": "_sqldf",
        "executionCount": 96
       },
       "overflow": false,
       "plotOptions": {
        "customPlotOptions": {},
        "displayType": "table",
        "pivotAggregation": null,
        "pivotColumns": null,
        "xColumns": null,
        "yColumns": null
       },
       "removedWidgets": [],
       "schema": [
        {
         "metadata": "{}",
         "name": "customer_id",
         "type": "\"string\""
        },
        {
         "metadata": "{}",
         "name": "email",
         "type": "\"string\""
        },
        {
         "metadata": "{}",
         "name": "city",
         "type": "\"string\""
        },
        {
         "metadata": "{}",
         "name": "country",
         "type": "\"string\""
        },
        {
         "metadata": "{}",
         "name": "name",
         "type": "\"string\""
        },
        {
         "metadata": "{}",
         "name": "delivery_updates",
         "type": "\"string\""
        },
        {
         "metadata": "{}",
         "name": "item_id",
         "type": "\"string\""
        },
        {
         "metadata": "{}",
         "name": "price_per_unit",
         "type": "\"double\""
        },
        {
         "metadata": "{}",
         "name": "product_name",
         "type": "\"string\""
        },
        {
         "metadata": "{}",
         "name": "quantity",
         "type": "\"long\""
        },
        {
         "metadata": "{}",
         "name": "order_id",
         "type": "\"string\""
        },
        {
         "metadata": "{}",
         "name": "order_timestamp",
         "type": "\"string\""
        },
        {
         "metadata": "{}",
         "name": "amount",
         "type": "\"double\""
        },
        {
         "metadata": "{}",
         "name": "currency",
         "type": "\"string\""
        },
        {
         "metadata": "{}",
         "name": "method",
         "type": "\"string\""
        }
       ],
       "type": "table"
      }
     },
     "output_type": "display_data"
    }
   ],
   "source": [
    "%sql\n",
    "select * from cat.sink.orders;"
   ]
  },
  {
   "cell_type": "markdown",
   "metadata": {
    "application/vnd.databricks.v1+cell": {
     "cellMetadata": {},
     "inputWidgets": {},
     "nuid": "1a8cb091-954d-471f-9d02-661aa481fe5b",
     "showTitle": false,
     "tableResultSettingsMap": {},
     "title": ""
    }
   },
   "source": [
    "### Scenario-4\n",
    "In a large scale data processing project, multiple Pyspark notebooks require the same set of custom transformation functions, such as data formatting, null handling, and data validation. Instead of duplicating the code across notebooks, a Python class is created to store these reusable functions. This ensures consistency, reduces maintenance effort, and improves code readability across the project."
   ]
  },
  {
   "cell_type": "code",
   "execution_count": 0,
   "metadata": {
    "application/vnd.databricks.v1+cell": {
     "cellMetadata": {
      "byteLimit": 2048000,
      "rowLimit": 10000
     },
     "inputWidgets": {},
     "nuid": "a9832e1e-bf55-4a47-a7aa-e9f8f17c9b31",
     "showTitle": false,
     "tableResultSettingsMap": {},
     "title": ""
    }
   },
   "outputs": [],
   "source": [
    "class Transformation():\n",
    "\n",
    "  def __init__(self, df):\n",
    "    self.df = df\n",
    "\n",
    "  def dedup(self, id_key, order_key):\n",
    "    self.df = self.df.withColumn(\"dedup\", F.row_number().over(Window.partitionBy(id_key).orderBy(F.desc(order_key))))\\\n",
    "                     .filter(\"dedup = 1\")\\\n",
    "                     .drop(\"dedup\")\n",
    "    return self.df\n",
    "\n",
    "  def remove_null(self, column):\n",
    "    self.df = self.df.filter(F.col(column).isNotNull())\n",
    "    return self.df\n"
   ]
  },
  {
   "cell_type": "code",
   "execution_count": 0,
   "metadata": {
    "application/vnd.databricks.v1+cell": {
     "cellMetadata": {
      "byteLimit": 2048000,
      "rowLimit": 10000
     },
     "inputWidgets": {},
     "nuid": "be05d964-7fb1-46b1-9b4c-9af36bc0c3a6",
     "showTitle": false,
     "tableResultSettingsMap": {},
     "title": ""
    }
   },
   "outputs": [
    {
     "output_type": "display_data",
     "data": {
      "text/html": [
       "<style scoped>\n",
       "  .table-result-container {\n",
       "    max-height: 300px;\n",
       "    overflow: auto;\n",
       "  }\n",
       "  table, th, td {\n",
       "    border: 1px solid black;\n",
       "    border-collapse: collapse;\n",
       "  }\n",
       "  th, td {\n",
       "    padding: 5px;\n",
       "  }\n",
       "  th {\n",
       "    text-align: left;\n",
       "  }\n",
       "</style><div class='table-result-container'><table class='table-result'><thead style='background-color: white'><tr><th>id</th><th>product_name</th><th>price</th><th>is_discontinued</th><th>updated_at</th></tr></thead><tbody><tr><td>1</td><td>product1</td><td>10.0</td><td>false</td><td>2025-08-28T07:53:52.326Z</td></tr><tr><td>2</td><td>product2</td><td>20.0</td><td>false</td><td>2025-08-28T07:53:52.326Z</td></tr><tr><td>3</td><td>product3</td><td>30.0</td><td>true</td><td>2025-08-28T07:53:52.326Z</td></tr><tr><td>4</td><td>product4</td><td>10.0</td><td>false</td><td>2025-08-28T07:53:52.326Z</td></tr><tr><td>5</td><td>product5</td><td>20.0</td><td>false</td><td>2025-08-28T07:53:52.326Z</td></tr><tr><td>1</td><td>product1</td><td>30.0</td><td>false</td><td>2025-08-28T08:04:41.512Z</td></tr><tr><td>6</td><td>product2</td><td>20.0</td><td>false</td><td>2025-08-28T08:04:41.512Z</td></tr><tr><td>1</td><td>product1</td><td>30.0</td><td>false</td><td>2025-08-28T08:05:01.694Z</td></tr><tr><td>6</td><td>product2</td><td>20.0</td><td>false</td><td>2025-08-28T08:05:01.694Z</td></tr></tbody></table></div>"
      ]
     },
     "metadata": {
      "application/vnd.databricks.v1+output": {
       "addedWidgets": {},
       "aggData": [],
       "aggError": "",
       "aggOverflow": false,
       "aggSchema": [],
       "aggSeriesLimitReached": false,
       "aggType": "",
       "arguments": {},
       "columnCustomDisplayInfos": {},
       "data": [
        [
         1,
         "product1",
         10.0,
         false,
         "2025-08-28T07:53:52.326Z"
        ],
        [
         2,
         "product2",
         20.0,
         false,
         "2025-08-28T07:53:52.326Z"
        ],
        [
         3,
         "product3",
         30.0,
         true,
         "2025-08-28T07:53:52.326Z"
        ],
        [
         4,
         "product4",
         10.0,
         false,
         "2025-08-28T07:53:52.326Z"
        ],
        [
         5,
         "product5",
         20.0,
         false,
         "2025-08-28T07:53:52.326Z"
        ],
        [
         1,
         "product1",
         30.0,
         false,
         "2025-08-28T08:04:41.512Z"
        ],
        [
         6,
         "product2",
         20.0,
         false,
         "2025-08-28T08:04:41.512Z"
        ],
        [
         1,
         "product1",
         30.0,
         false,
         "2025-08-28T08:05:01.694Z"
        ],
        [
         6,
         "product2",
         20.0,
         false,
         "2025-08-28T08:05:01.694Z"
        ]
       ],
       "datasetInfos": [],
       "dbfsResultPath": null,
       "isJsonSchema": true,
       "metadata": {},
       "overflow": false,
       "plotOptions": {
        "customPlotOptions": {},
        "displayType": "table",
        "pivotAggregation": null,
        "pivotColumns": null,
        "xColumns": null,
        "yColumns": null
       },
       "removedWidgets": [],
       "schema": [
        {
         "metadata": "{}",
         "name": "id",
         "type": "\"integer\""
        },
        {
         "metadata": "{}",
         "name": "product_name",
         "type": "\"string\""
        },
        {
         "metadata": "{}",
         "name": "price",
         "type": "\"double\""
        },
        {
         "metadata": "{}",
         "name": "is_discontinued",
         "type": "\"boolean\""
        },
        {
         "metadata": "{}",
         "name": "updated_at",
         "type": "\"timestamp\""
        }
       ],
       "type": "table"
      }
     },
     "output_type": "display_data"
    }
   ],
   "source": [
    "df = spark.read.table(\"cat.source.products\")\n",
    "display(df)"
   ]
  },
  {
   "cell_type": "code",
   "execution_count": 0,
   "metadata": {
    "application/vnd.databricks.v1+cell": {
     "cellMetadata": {
      "byteLimit": 2048000,
      "rowLimit": 10000
     },
     "inputWidgets": {},
     "nuid": "487946df-2cdf-4de8-bf55-1b3cb3a538f0",
     "showTitle": false,
     "tableResultSettingsMap": {},
     "title": ""
    }
   },
   "outputs": [
    {
     "output_type": "display_data",
     "data": {
      "text/html": [
       "<style scoped>\n",
       "  .table-result-container {\n",
       "    max-height: 300px;\n",
       "    overflow: auto;\n",
       "  }\n",
       "  table, th, td {\n",
       "    border: 1px solid black;\n",
       "    border-collapse: collapse;\n",
       "  }\n",
       "  th, td {\n",
       "    padding: 5px;\n",
       "  }\n",
       "  th {\n",
       "    text-align: left;\n",
       "  }\n",
       "</style><div class='table-result-container'><table class='table-result'><thead style='background-color: white'><tr><th>id</th><th>product_name</th><th>price</th><th>is_discontinued</th><th>updated_at</th></tr></thead><tbody><tr><td>1</td><td>product1</td><td>30.0</td><td>false</td><td>2025-08-28T08:05:01.694Z</td></tr><tr><td>2</td><td>product2</td><td>20.0</td><td>false</td><td>2025-08-28T07:53:52.326Z</td></tr><tr><td>3</td><td>product3</td><td>30.0</td><td>true</td><td>2025-08-28T07:53:52.326Z</td></tr><tr><td>4</td><td>product4</td><td>10.0</td><td>false</td><td>2025-08-28T07:53:52.326Z</td></tr><tr><td>5</td><td>product5</td><td>20.0</td><td>false</td><td>2025-08-28T07:53:52.326Z</td></tr><tr><td>6</td><td>product2</td><td>20.0</td><td>false</td><td>2025-08-28T08:05:01.694Z</td></tr></tbody></table></div>"
      ]
     },
     "metadata": {
      "application/vnd.databricks.v1+output": {
       "addedWidgets": {},
       "aggData": [],
       "aggError": "",
       "aggOverflow": false,
       "aggSchema": [],
       "aggSeriesLimitReached": false,
       "aggType": "",
       "arguments": {},
       "columnCustomDisplayInfos": {},
       "data": [
        [
         1,
         "product1",
         30.0,
         false,
         "2025-08-28T08:05:01.694Z"
        ],
        [
         2,
         "product2",
         20.0,
         false,
         "2025-08-28T07:53:52.326Z"
        ],
        [
         3,
         "product3",
         30.0,
         true,
         "2025-08-28T07:53:52.326Z"
        ],
        [
         4,
         "product4",
         10.0,
         false,
         "2025-08-28T07:53:52.326Z"
        ],
        [
         5,
         "product5",
         20.0,
         false,
         "2025-08-28T07:53:52.326Z"
        ],
        [
         6,
         "product2",
         20.0,
         false,
         "2025-08-28T08:05:01.694Z"
        ]
       ],
       "datasetInfos": [],
       "dbfsResultPath": null,
       "isJsonSchema": true,
       "metadata": {},
       "overflow": false,
       "plotOptions": {
        "customPlotOptions": {},
        "displayType": "table",
        "pivotAggregation": null,
        "pivotColumns": null,
        "xColumns": null,
        "yColumns": null
       },
       "removedWidgets": [],
       "schema": [
        {
         "metadata": "{}",
         "name": "id",
         "type": "\"integer\""
        },
        {
         "metadata": "{}",
         "name": "product_name",
         "type": "\"string\""
        },
        {
         "metadata": "{}",
         "name": "price",
         "type": "\"double\""
        },
        {
         "metadata": "{}",
         "name": "is_discontinued",
         "type": "\"boolean\""
        },
        {
         "metadata": "{}",
         "name": "updated_at",
         "type": "\"timestamp\""
        }
       ],
       "type": "table"
      }
     },
     "output_type": "display_data"
    }
   ],
   "source": [
    "tobj = Transformation(df)\n",
    "\n",
    "df = tobj.dedup(\"id\", \"updated_at\")\n",
    "df = tobj.remove_null(\"updated_at\")\n",
    "\n",
    "display(df)"
   ]
  },
  {
   "cell_type": "markdown",
   "metadata": {
    "application/vnd.databricks.v1+cell": {
     "cellMetadata": {},
     "inputWidgets": {},
     "nuid": "c6b1bb53-5a1e-450b-81ea-b4f355fa58f5",
     "showTitle": false,
     "tableResultSettingsMap": {},
     "title": ""
    }
   },
   "source": [
    "### Scenario-5\n",
    "A retail company maintains a product catalog in its data warehouse. Product details such as name, category, and price may change over time due to rebranding, category updates, or pricing adjustments. To preserve historical data for accurate reporting and trend analysis, the company needs to implement a slowly changing dimension (SCD) type 2 mechanism in Pyspark, ensuring old records are retained with effective data ranges while new versions are inserted as separate records."
   ]
  },
  {
   "cell_type": "code",
   "execution_count": 0,
   "metadata": {
    "application/vnd.databricks.v1+cell": {
     "cellMetadata": {
      "byteLimit": 2048000,
      "rowLimit": 10000
     },
     "inputWidgets": {},
     "nuid": "d2aa1d5d-a05c-4588-9cd8-252092266549",
     "showTitle": false,
     "tableResultSettingsMap": {},
     "title": ""
    }
   },
   "outputs": [],
   "source": [
    "df = spark.read.table(\"cat.source.products\")\n",
    "\n",
    "tobj = Transformation(df)\n",
    "df_transformed = tobj.dedup(\"id\", \"updated_at\")"
   ]
  },
  {
   "cell_type": "code",
   "execution_count": 0,
   "metadata": {
    "application/vnd.databricks.v1+cell": {
     "cellMetadata": {
      "byteLimit": 2048000,
      "rowLimit": 10000
     },
     "inputWidgets": {},
     "nuid": "fe193ad5-5336-4245-a097-07a559e6b38b",
     "showTitle": false,
     "tableResultSettingsMap": {},
     "title": ""
    }
   },
   "outputs": [],
   "source": [
    "df_transformed.createOrReplaceTempView(\"products\")\n",
    "\n",
    "if spark.catalog.tableExists(\"cat.sink.dim_products\"):\n",
    "    spark.sql(\"\"\"\n",
    "              merge into cat.sink.dim_products as dst\n",
    "              using products as src\n",
    "              on dst.id = src.id and dst.is_current = true\n",
    "              and dst.updated_at > src.updated_at\n",
    "              when matched and (\n",
    "                dst.product_name != src.product_name or\n",
    "                dst.price != src.price or\n",
    "                dst.is_discontinued != src.is_discontinued or\n",
    "                dst.updated_at != src.updated_at\n",
    "              )\n",
    "              then update set \n",
    "              is_current = false,\n",
    "              end_date = current_date();\n",
    "              \"\"\")\n",
    "    \n",
    "    spark.sql(\"\"\"\n",
    "              merge into cat.sink.dim_products as dst\n",
    "              using products as src\n",
    "              on dst.id = src.id and dst.is_current = true\n",
    "              when not matched then insert (\n",
    "                id,\n",
    "                product_name,\n",
    "                price,\n",
    "                is_discontinued,\n",
    "                updated_at,\n",
    "                start_date,\n",
    "                end_date,\n",
    "                is_current\n",
    "              ) values (\n",
    "                src.id,\n",
    "                src.product_name,\n",
    "                src.price,\n",
    "                src.is_discontinued,\n",
    "                src.updated_at,\n",
    "                current_date(),\n",
    "                '9999-01-01',\n",
    "                true\n",
    "              );\n",
    "              \"\"\")\n",
    "else:\n",
    "    spark.sql(\"\"\"\n",
    "              create table cat.sink.dim_products\n",
    "              select\n",
    "                id,\n",
    "                product_name,\n",
    "                price,\n",
    "                is_discontinued,\n",
    "                updated_at,\n",
    "                current_date() as start_date,\n",
    "                '9999-01-01' as end_date,\n",
    "                true as is_current\n",
    "              from products\n",
    "              \"\"\")"
   ]
  },
  {
   "cell_type": "code",
   "execution_count": 0,
   "metadata": {
    "application/vnd.databricks.v1+cell": {
     "cellMetadata": {
      "byteLimit": 2048000,
      "implicitDf": true,
      "rowLimit": 10000
     },
     "inputWidgets": {},
     "nuid": "b4d7192e-d884-4fe8-8f73-58b1dd55bd07",
     "showTitle": false,
     "tableResultSettingsMap": {},
     "title": ""
    }
   },
   "outputs": [
    {
     "output_type": "display_data",
     "data": {
      "text/html": [
       "<style scoped>\n",
       "  .table-result-container {\n",
       "    max-height: 300px;\n",
       "    overflow: auto;\n",
       "  }\n",
       "  table, th, td {\n",
       "    border: 1px solid black;\n",
       "    border-collapse: collapse;\n",
       "  }\n",
       "  th, td {\n",
       "    padding: 5px;\n",
       "  }\n",
       "  th {\n",
       "    text-align: left;\n",
       "  }\n",
       "</style><div class='table-result-container'><table class='table-result'><thead style='background-color: white'><tr><th>id</th><th>product_name</th><th>price</th><th>is_discontinued</th><th>updated_at</th><th>start_date</th><th>end_date</th><th>is_current</th></tr></thead><tbody><tr><td>2</td><td>product2</td><td>20.0</td><td>false</td><td>2025-08-28T07:53:52.326Z</td><td>2025-08-28</td><td>9999-01-01</td><td>true</td></tr><tr><td>4</td><td>product4</td><td>10.0</td><td>false</td><td>2025-08-28T07:53:52.326Z</td><td>2025-08-28</td><td>9999-01-01</td><td>true</td></tr><tr><td>5</td><td>product5</td><td>20.0</td><td>false</td><td>2025-08-28T07:53:52.326Z</td><td>2025-08-28</td><td>9999-01-01</td><td>true</td></tr><tr><td>6</td><td>product2</td><td>20.0</td><td>false</td><td>2025-08-28T08:05:01.694Z</td><td>2025-08-28</td><td>9999-01-01</td><td>true</td></tr><tr><td>1</td><td>product1</td><td>30.0</td><td>false</td><td>2025-08-28T08:05:01.694Z</td><td>2025-08-28</td><td>2025-08-28</td><td>false</td></tr><tr><td>3</td><td>product3</td><td>30.0</td><td>true</td><td>2025-08-28T07:53:52.326Z</td><td>2025-08-28</td><td>2025-08-28</td><td>false</td></tr><tr><td>1</td><td>productA</td><td>70.0</td><td>false</td><td>2025-08-28T09:33:40.013Z</td><td>2025-08-28</td><td>9999-01-01</td><td>true</td></tr><tr><td>3</td><td>productC</td><td>100.0</td><td>false</td><td>2025-08-28T09:33:40.013Z</td><td>2025-08-28</td><td>9999-01-01</td><td>true</td></tr><tr><td>9</td><td>productZ</td><td>20.0</td><td>false</td><td>2025-08-28T09:33:40.013Z</td><td>2025-08-28</td><td>9999-01-01</td><td>true</td></tr></tbody></table></div>"
      ]
     },
     "metadata": {
      "application/vnd.databricks.v1+output": {
       "addedWidgets": {},
       "aggData": [],
       "aggError": "",
       "aggOverflow": false,
       "aggSchema": [],
       "aggSeriesLimitReached": false,
       "aggType": "",
       "arguments": {},
       "columnCustomDisplayInfos": {},
       "data": [
        [
         2,
         "product2",
         20.0,
         false,
         "2025-08-28T07:53:52.326Z",
         "2025-08-28",
         "9999-01-01",
         true
        ],
        [
         4,
         "product4",
         10.0,
         false,
         "2025-08-28T07:53:52.326Z",
         "2025-08-28",
         "9999-01-01",
         true
        ],
        [
         5,
         "product5",
         20.0,
         false,
         "2025-08-28T07:53:52.326Z",
         "2025-08-28",
         "9999-01-01",
         true
        ],
        [
         6,
         "product2",
         20.0,
         false,
         "2025-08-28T08:05:01.694Z",
         "2025-08-28",
         "9999-01-01",
         true
        ],
        [
         1,
         "product1",
         30.0,
         false,
         "2025-08-28T08:05:01.694Z",
         "2025-08-28",
         "2025-08-28",
         false
        ],
        [
         3,
         "product3",
         30.0,
         true,
         "2025-08-28T07:53:52.326Z",
         "2025-08-28",
         "2025-08-28",
         false
        ],
        [
         1,
         "productA",
         70.0,
         false,
         "2025-08-28T09:33:40.013Z",
         "2025-08-28",
         "9999-01-01",
         true
        ],
        [
         3,
         "productC",
         100.0,
         false,
         "2025-08-28T09:33:40.013Z",
         "2025-08-28",
         "9999-01-01",
         true
        ],
        [
         9,
         "productZ",
         20.0,
         false,
         "2025-08-28T09:33:40.013Z",
         "2025-08-28",
         "9999-01-01",
         true
        ]
       ],
       "datasetInfos": [
        {
         "name": "_sqldf",
         "schema": {
          "fields": [
           {
            "metadata": {},
            "name": "id",
            "nullable": true,
            "type": "integer"
           },
           {
            "metadata": {},
            "name": "product_name",
            "nullable": true,
            "type": "string"
           },
           {
            "metadata": {},
            "name": "price",
            "nullable": true,
            "type": "double"
           },
           {
            "metadata": {},
            "name": "is_discontinued",
            "nullable": true,
            "type": "boolean"
           },
           {
            "metadata": {},
            "name": "updated_at",
            "nullable": true,
            "type": "timestamp"
           },
           {
            "metadata": {},
            "name": "start_date",
            "nullable": true,
            "type": "date"
           },
           {
            "metadata": {},
            "name": "end_date",
            "nullable": true,
            "type": "string"
           },
           {
            "metadata": {},
            "name": "is_current",
            "nullable": true,
            "type": "boolean"
           }
          ],
          "type": "struct"
         },
         "tableIdentifier": null,
         "typeStr": "pyspark.sql.connect.dataframe.DataFrame"
        }
       ],
       "dbfsResultPath": null,
       "isJsonSchema": true,
       "metadata": {
        "createTempViewForImplicitDf": true,
        "dataframeName": "_sqldf",
        "executionCount": 40
       },
       "overflow": false,
       "plotOptions": {
        "customPlotOptions": {},
        "displayType": "table",
        "pivotAggregation": null,
        "pivotColumns": null,
        "xColumns": null,
        "yColumns": null
       },
       "removedWidgets": [],
       "schema": [
        {
         "metadata": "{}",
         "name": "id",
         "type": "\"integer\""
        },
        {
         "metadata": "{}",
         "name": "product_name",
         "type": "\"string\""
        },
        {
         "metadata": "{}",
         "name": "price",
         "type": "\"double\""
        },
        {
         "metadata": "{}",
         "name": "is_discontinued",
         "type": "\"boolean\""
        },
        {
         "metadata": "{}",
         "name": "updated_at",
         "type": "\"timestamp\""
        },
        {
         "metadata": "{}",
         "name": "start_date",
         "type": "\"date\""
        },
        {
         "metadata": "{}",
         "name": "end_date",
         "type": "\"string\""
        },
        {
         "metadata": "{}",
         "name": "is_current",
         "type": "\"boolean\""
        }
       ],
       "type": "table"
      }
     },
     "output_type": "display_data"
    }
   ],
   "source": [
    "%sql\n",
    "select * from cat.sink.dim_products;"
   ]
  },
  {
   "cell_type": "markdown",
   "metadata": {
    "application/vnd.databricks.v1+cell": {
     "cellMetadata": {},
     "inputWidgets": {},
     "nuid": "c31d1959-89f4-42c2-b411-34fde91c8a7c",
     "showTitle": false,
     "tableResultSettingsMap": {},
     "title": ""
    }
   },
   "source": [
    "### Scenario-6\n",
    "A retail company processes daily sales transactions from multiple store locations. The data arrives in different formats and needs to be cleaned, validated, and aggregated for business reporting. Using Delta Live Tables pipeline, the raw data is ingested from cloud storage, transformed with quality check, and stored in Delta tables for analytics dashboards, ensuring accuracy and reliability in near real-time."
   ]
  },
  {
   "cell_type": "code",
   "execution_count": 0,
   "metadata": {
    "application/vnd.databricks.v1+cell": {
     "cellMetadata": {},
     "inputWidgets": {},
     "nuid": "b9313b9c-3008-453d-9746-751a76aeff9a",
     "showTitle": false,
     "tableResultSettingsMap": {},
     "title": ""
    }
   },
   "outputs": [],
   "source": [
    "import dlt\n",
    "from pyspark.sql.window import Window\n",
    "import pyspark.sql.functions as F\n",
    "\n",
    "@dlt.table(name=\"customers_source\")\n",
    "def customers_source():\n",
    "  df = spark.read.table(\"cat.source.customers\")\n",
    "  return df\n",
    "\n",
    "@dlt.table(name=\"customers_transformed\")\n",
    "def customers_transformed():\n",
    "  df = spark.read.table(\"customers_source\")\n",
    "  df = df.withColumn(\"dedup\", F.row_number().over(Window.partitionBy(\"id\").orderBy(F.desc(\"updated_at\"))))\\\n",
    "        .filter(\"dedup == 1\")\\\n",
    "        .drop(\"dedup\")\n",
    "  return df\n",
    "\n",
    "dlt.create_streaming_table(\"dim_customers\")\n",
    "\n",
    "dlt.create_auto_cdc_flow(\n",
    "  target = \"dim_customers\",\n",
    "  source = \"customers_transformed\",\n",
    "  keys = [\"id\"],\n",
    "  sequence_by = \"updated_at\",\n",
    "  ignore_null_updates = False,\n",
    "  apply_as_deletes = None,\n",
    "  apply_as_truncates = None,\n",
    "  column_list = None,\n",
    "  except_column_list = None,\n",
    "  stored_as_scd_type = 2,\n",
    "  track_history_column_list = None,\n",
    "  track_history_except_column_list = None,\n",
    "  name = None,\n",
    "  once = False\n",
    ")\n"
   ]
  }
 ],
 "metadata": {
  "application/vnd.databricks.v1+notebook": {
   "computePreferences": {
    "hardware": {
     "accelerator": null,
     "gpuPoolId": null,
     "memory": null
    }
   },
   "dashboards": [],
   "environmentMetadata": {
    "base_environment": "",
    "environment_version": "3"
   },
   "inputWidgetPreferences": null,
   "language": "python",
   "notebookMetadata": {
    "mostRecentlyExecutedCommandWithImplicitDF": {
     "commandId": 5658246888083478,
     "dataframes": [
      "_sqldf"
     ]
    },
    "pythonIndentUnit": 4
   },
   "notebookName": "pyspark_scenarios",
   "widgets": {}
  },
  "language_info": {
   "name": "python"
  }
 },
 "nbformat": 4,
 "nbformat_minor": 0
}