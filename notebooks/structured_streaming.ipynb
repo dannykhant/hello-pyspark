{
 "cells": [
  {
   "cell_type": "markdown",
   "metadata": {
    "application/vnd.databricks.v1+cell": {
     "cellMetadata": {},
     "inputWidgets": {},
     "nuid": "9d4c328f-69cc-4f69-88de-c1132d299376",
     "showTitle": false,
     "tableResultSettingsMap": {},
     "title": ""
    }
   },
   "source": [
    "### Spark Structured Streaming"
   ]
  },
  {
   "cell_type": "code",
   "execution_count": 0,
   "metadata": {
    "application/vnd.databricks.v1+cell": {
     "cellMetadata": {
      "byteLimit": 2048000,
      "implicitDf": true,
      "rowLimit": 10000
     },
     "inputWidgets": {},
     "nuid": "177cfc5b-d4c9-4c46-97d1-2bde63ba1cc8",
     "showTitle": false,
     "tableResultSettingsMap": {},
     "title": ""
    }
   },
   "outputs": [],
   "source": [
    "%sql\n",
    "create schema cat.streaming;"
   ]
  },
  {
   "cell_type": "code",
   "execution_count": 0,
   "metadata": {
    "application/vnd.databricks.v1+cell": {
     "cellMetadata": {
      "byteLimit": 2048000,
      "implicitDf": true,
      "rowLimit": 10000
     },
     "inputWidgets": {},
     "nuid": "eaa727ff-f0d7-43ec-b579-f7a2c3fd4a13",
     "showTitle": false,
     "tableResultSettingsMap": {},
     "title": ""
    }
   },
   "outputs": [],
   "source": [
    "%sql\n",
    "create volume cat.streaming.datavol;"
   ]
  },
  {
   "cell_type": "code",
   "execution_count": 0,
   "metadata": {
    "application/vnd.databricks.v1+cell": {
     "cellMetadata": {
      "byteLimit": 2048000,
      "rowLimit": 10000
     },
     "inputWidgets": {},
     "nuid": "efcdc663-5bf6-4904-9d0f-ddddd71b35a7",
     "showTitle": false,
     "tableResultSettingsMap": {},
     "title": ""
    }
   },
   "outputs": [
    {
     "output_type": "execute_result",
     "data": {
      "text/plain": [
       "True"
      ]
     },
     "execution_count": 142,
     "metadata": {},
     "output_type": "execute_result"
    }
   ],
   "source": [
    "dbutils.fs.mkdirs(\"/Volumes/cat/streaming/datavol/sink4/checkpoint\")"
   ]
  },
  {
   "cell_type": "markdown",
   "metadata": {
    "application/vnd.databricks.v1+cell": {
     "cellMetadata": {},
     "inputWidgets": {},
     "nuid": "6cbf7492-5d8d-45c7-b3c4-cb011bebe9da",
     "showTitle": false,
     "tableResultSettingsMap": {},
     "title": ""
    }
   },
   "source": [
    "#### Append OutputMode with Source Archiving"
   ]
  },
  {
   "cell_type": "markdown",
   "metadata": {
    "application/vnd.databricks.v1+cell": {
     "cellMetadata": {},
     "inputWidgets": {},
     "nuid": "12959e58-e9ca-4ae2-9b87-d345a96e4e6c",
     "showTitle": false,
     "tableResultSettingsMap": {},
     "title": ""
    }
   },
   "source": [
    "{\n",
    "  \"order_id\": \"ORD1002\",\n",
    "  \"timestamp\": \"2025-06-01T10:30:00Z\",\n",
    "  \"customer\": {\n",
    "    \"customer_id\": 502,\n",
    "    \"name\": \"Alice Smith\",\n",
    "    \"email\": \"alice@example.com\",\n",
    "    \"address\": {\n",
    "      \"city\": \"Vancouver\",\n",
    "      \"postal_code\": \"V5K 0A1\",\n",
    "      \"country\": \"Canada\"\n",
    "    }\n",
    "  },\n",
    "  \"items\": [\n",
    "    {\n",
    "      \"item_id\": \"I102\",\n",
    "      \"product_name\": \"Bluetooth Keyboard\",\n",
    "      \"quantity\": 1,\n",
    "      \"price\": 45.00\n",
    "    }\n",
    "  ],\n",
    "  \"payment\": {\n",
    "    \"method\": \"PayPal\",\n",
    "    \"transaction_id\": \"TXN7891\"\n",
    "  },\n",
    "  \"metadata\": [\n",
    "    {\"key\": \"campaign\", \"value\": \"cyber_monday\"},\n",
    "    {\"key\": \"channel\", \"value\": \"affiliate\"}\n",
    "  ]\n",
    "}"
   ]
  },
  {
   "cell_type": "code",
   "execution_count": 0,
   "metadata": {
    "application/vnd.databricks.v1+cell": {
     "cellMetadata": {
      "byteLimit": 2048000,
      "rowLimit": 10000
     },
     "inputWidgets": {},
     "nuid": "9194bdf2-0c89-4365-b0ca-52b887bdbdb0",
     "showTitle": false,
     "tableResultSettingsMap": {},
     "title": ""
    }
   },
   "outputs": [],
   "source": [
    "from pyspark.sql.functions import *"
   ]
  },
  {
   "cell_type": "code",
   "execution_count": 0,
   "metadata": {
    "application/vnd.databricks.v1+cell": {
     "cellMetadata": {
      "byteLimit": 2048000,
      "rowLimit": 10000
     },
     "inputWidgets": {},
     "nuid": "86ad987a-20d2-4351-8e47-57a809304a61",
     "showTitle": false,
     "tableResultSettingsMap": {},
     "title": ""
    }
   },
   "outputs": [],
   "source": [
    "schema = \"\"\"\n",
    "    order_id string,\n",
    "    timestamp string,\n",
    "    customer struct<\n",
    "        customer_id int,\n",
    "        name string,\n",
    "        email string,\n",
    "        address struct<\n",
    "            city string,\n",
    "            postal_code string,\n",
    "            country string\n",
    "        >\n",
    "    >,\n",
    "    items array<struct<\n",
    "        item_id int,\n",
    "        product_name string,\n",
    "        quantity int,\n",
    "        price double\n",
    "    >>,\n",
    "    payment struct<\n",
    "        method string,\n",
    "        transaction_id string\n",
    "    >,\n",
    "    metadata array<struct<\n",
    "        key string,\n",
    "        value string\n",
    "    >>\n",
    "\"\"\""
   ]
  },
  {
   "cell_type": "code",
   "execution_count": 0,
   "metadata": {
    "application/vnd.databricks.v1+cell": {
     "cellMetadata": {
      "byteLimit": 2048000,
      "rowLimit": 10000
     },
     "inputWidgets": {},
     "nuid": "c22dfc0f-4a0a-4450-99f2-eb73a7aa5ae7",
     "showTitle": false,
     "tableResultSettingsMap": {},
     "title": ""
    }
   },
   "outputs": [
    {
     "output_type": "execute_result",
     "data": {
      "text/plain": [
       "<pyspark.sql.connect.streaming.query.StreamingQuery at 0x7fa9bdce7320>"
      ]
     },
     "execution_count": 87,
     "metadata": {},
     "output_type": "execute_result"
    }
   ],
   "source": [
    "df = spark.readStream.format(\"json\")\\\n",
    "            .schema(schema)\\\n",
    "            .option(\"multiLine\", \"true\")\\\n",
    "            .option(\"cleanSource\", \"archive\")\\\n",
    "            .option(\"sourceArchiveDir\", \"/Volumes/cat/streaming/datavol/source/archive\")\\\n",
    "            .load(\"/Volumes/cat/streaming/datavol/source/data\")\n",
    "\n",
    "df_transform = df.withColumn(\"items\", explode_outer(col(\"items\")))\n",
    "df_transform = df_transform.select(\n",
    "    \"order_id\", \n",
    "    \"timestamp\", \n",
    "    \"customer.customer_id\", \n",
    "    \"customer.name\", \n",
    "    \"customer.email\",\n",
    "    \"customer.address.city\",\n",
    "    \"customer.address.postal_code\",\n",
    "    \"customer.address.country\", \n",
    "    \"items.item_id\", \n",
    "    \"items.product_name\", \n",
    "    \"items.quantity\", \n",
    "    \"items.price\",\n",
    "    \"payment.method\", \n",
    "    \"payment.transaction_id\",\n",
    "    \"metadata\"\n",
    ")\n",
    "\n",
    "df_transform.writeStream\\\n",
    "    .outputMode(\"append\")\\\n",
    "    .format(\"delta\")\\\n",
    "    .option(\"checkpointLocation\", \"/Volumes/cat/streaming/datavol/sink/checkpoint\")\\\n",
    "    .option(\"path\", \"/Volumes/cat/streaming/datavol/sink/data\")\\\n",
    "    .trigger(once=True)\\\n",
    "    .start()\n"
   ]
  },
  {
   "cell_type": "code",
   "execution_count": 0,
   "metadata": {
    "application/vnd.databricks.v1+cell": {
     "cellMetadata": {
      "byteLimit": 2048000,
      "implicitDf": true,
      "rowLimit": 10000
     },
     "inputWidgets": {},
     "nuid": "8d3e2a66-6a18-4c5b-8124-e9f76c7799c6",
     "showTitle": false,
     "tableResultSettingsMap": {},
     "title": ""
    }
   },
   "outputs": [
    {
     "output_type": "display_data",
     "data": {
      "text/html": [
       "<style scoped>\n",
       "  .table-result-container {\n",
       "    max-height: 300px;\n",
       "    overflow: auto;\n",
       "  }\n",
       "  table, th, td {\n",
       "    border: 1px solid black;\n",
       "    border-collapse: collapse;\n",
       "  }\n",
       "  th, td {\n",
       "    padding: 5px;\n",
       "  }\n",
       "  th {\n",
       "    text-align: left;\n",
       "  }\n",
       "</style><div class='table-result-container'><table class='table-result'><thead style='background-color: white'><tr><th>order_id</th><th>timestamp</th><th>customer_id</th><th>name</th><th>email</th><th>city</th><th>postal_code</th><th>country</th><th>item_id</th><th>product_name</th><th>quantity</th><th>price</th><th>method</th><th>transaction_id</th><th>metadata</th></tr></thead><tbody><tr><td>ORD1001</td><td>2025-06-01T10:15:00Z</td><td>501</td><td>John Doe</td><td>john@example.com</td><td>Toronto</td><td>M5H 2N2</td><td>Canada</td><td>null</td><td>Wireless Mouse</td><td>2</td><td>25.99</td><td>Credit Card</td><td>TXN7890</td><td>List(List(campaign, back_to_school), List(channel, email))</td></tr><tr><td>ORD1001</td><td>2025-06-01T10:15:00Z</td><td>501</td><td>John Doe</td><td>john@example.com</td><td>Toronto</td><td>M5H 2N2</td><td>Canada</td><td>null</td><td>USB-C Adapter</td><td>1</td><td>15.49</td><td>Credit Card</td><td>TXN7890</td><td>List(List(campaign, back_to_school), List(channel, email))</td></tr><tr><td>ORD1002</td><td>2025-06-01T10:30:00Z</td><td>502</td><td>Alice Smith</td><td>alice@example.com</td><td>Vancouver</td><td>V5K 0A1</td><td>Canada</td><td>null</td><td>Bluetooth Keyboard</td><td>1</td><td>45.0</td><td>PayPal</td><td>TXN7891</td><td>List(List(campaign, cyber_monday), List(channel, affiliate))</td></tr></tbody></table></div>"
      ]
     },
     "metadata": {
      "application/vnd.databricks.v1+output": {
       "addedWidgets": {},
       "aggData": [],
       "aggError": "",
       "aggOverflow": false,
       "aggSchema": [],
       "aggSeriesLimitReached": false,
       "aggType": "",
       "arguments": {},
       "columnCustomDisplayInfos": {},
       "data": [
        [
         "ORD1001",
         "2025-06-01T10:15:00Z",
         501,
         "John Doe",
         "john@example.com",
         "Toronto",
         "M5H 2N2",
         "Canada",
         null,
         "Wireless Mouse",
         2,
         25.99,
         "Credit Card",
         "TXN7890",
         [
          [
           "campaign",
           "back_to_school"
          ],
          [
           "channel",
           "email"
          ]
         ]
        ],
        [
         "ORD1001",
         "2025-06-01T10:15:00Z",
         501,
         "John Doe",
         "john@example.com",
         "Toronto",
         "M5H 2N2",
         "Canada",
         null,
         "USB-C Adapter",
         1,
         15.49,
         "Credit Card",
         "TXN7890",
         [
          [
           "campaign",
           "back_to_school"
          ],
          [
           "channel",
           "email"
          ]
         ]
        ],
        [
         "ORD1002",
         "2025-06-01T10:30:00Z",
         502,
         "Alice Smith",
         "alice@example.com",
         "Vancouver",
         "V5K 0A1",
         "Canada",
         null,
         "Bluetooth Keyboard",
         1,
         45.0,
         "PayPal",
         "TXN7891",
         [
          [
           "campaign",
           "cyber_monday"
          ],
          [
           "channel",
           "affiliate"
          ]
         ]
        ]
       ],
       "datasetInfos": [
        {
         "name": "_sqldf",
         "schema": {
          "fields": [
           {
            "metadata": {},
            "name": "order_id",
            "nullable": true,
            "type": "string"
           },
           {
            "metadata": {},
            "name": "timestamp",
            "nullable": true,
            "type": "string"
           },
           {
            "metadata": {},
            "name": "customer_id",
            "nullable": true,
            "type": "integer"
           },
           {
            "metadata": {},
            "name": "name",
            "nullable": true,
            "type": "string"
           },
           {
            "metadata": {},
            "name": "email",
            "nullable": true,
            "type": "string"
           },
           {
            "metadata": {},
            "name": "city",
            "nullable": true,
            "type": "string"
           },
           {
            "metadata": {},
            "name": "postal_code",
            "nullable": true,
            "type": "string"
           },
           {
            "metadata": {},
            "name": "country",
            "nullable": true,
            "type": "string"
           },
           {
            "metadata": {},
            "name": "item_id",
            "nullable": true,
            "type": "integer"
           },
           {
            "metadata": {},
            "name": "product_name",
            "nullable": true,
            "type": "string"
           },
           {
            "metadata": {},
            "name": "quantity",
            "nullable": true,
            "type": "integer"
           },
           {
            "metadata": {},
            "name": "price",
            "nullable": true,
            "type": "double"
           },
           {
            "metadata": {},
            "name": "method",
            "nullable": true,
            "type": "string"
           },
           {
            "metadata": {},
            "name": "transaction_id",
            "nullable": true,
            "type": "string"
           },
           {
            "metadata": {},
            "name": "metadata",
            "nullable": true,
            "type": {
             "containsNull": true,
             "elementType": {
              "fields": [
               {
                "metadata": {},
                "name": "key",
                "nullable": true,
                "type": "string"
               },
               {
                "metadata": {},
                "name": "value",
                "nullable": true,
                "type": "string"
               }
              ],
              "type": "struct"
             },
             "type": "array"
            }
           }
          ],
          "type": "struct"
         },
         "tableIdentifier": null,
         "typeStr": "pyspark.sql.connect.dataframe.DataFrame"
        }
       ],
       "dbfsResultPath": null,
       "isJsonSchema": true,
       "metadata": {
        "createTempViewForImplicitDf": true,
        "dataframeName": "_sqldf",
        "executionCount": 86
       },
       "overflow": false,
       "plotOptions": {
        "customPlotOptions": {},
        "displayType": "table",
        "pivotAggregation": null,
        "pivotColumns": null,
        "xColumns": null,
        "yColumns": null
       },
       "removedWidgets": [],
       "schema": [
        {
         "metadata": "{}",
         "name": "order_id",
         "type": "\"string\""
        },
        {
         "metadata": "{}",
         "name": "timestamp",
         "type": "\"string\""
        },
        {
         "metadata": "{}",
         "name": "customer_id",
         "type": "\"integer\""
        },
        {
         "metadata": "{}",
         "name": "name",
         "type": "\"string\""
        },
        {
         "metadata": "{}",
         "name": "email",
         "type": "\"string\""
        },
        {
         "metadata": "{}",
         "name": "city",
         "type": "\"string\""
        },
        {
         "metadata": "{}",
         "name": "postal_code",
         "type": "\"string\""
        },
        {
         "metadata": "{}",
         "name": "country",
         "type": "\"string\""
        },
        {
         "metadata": "{}",
         "name": "item_id",
         "type": "\"integer\""
        },
        {
         "metadata": "{}",
         "name": "product_name",
         "type": "\"string\""
        },
        {
         "metadata": "{}",
         "name": "quantity",
         "type": "\"integer\""
        },
        {
         "metadata": "{}",
         "name": "price",
         "type": "\"double\""
        },
        {
         "metadata": "{}",
         "name": "method",
         "type": "\"string\""
        },
        {
         "metadata": "{}",
         "name": "transaction_id",
         "type": "\"string\""
        },
        {
         "metadata": "{}",
         "name": "metadata",
         "type": "{\"containsNull\":true,\"elementType\":{\"fields\":[{\"metadata\":{},\"name\":\"key\",\"nullable\":true,\"type\":\"string\"},{\"metadata\":{},\"name\":\"value\",\"nullable\":true,\"type\":\"string\"}],\"type\":\"struct\"},\"type\":\"array\"}"
        }
       ],
       "type": "table"
      }
     },
     "output_type": "display_data"
    }
   ],
   "source": [
    "%sql\n",
    "select * from delta.`/Volumes/cat/streaming/datavol/sink/data`;"
   ]
  },
  {
   "cell_type": "markdown",
   "metadata": {
    "application/vnd.databricks.v1+cell": {
     "cellMetadata": {},
     "inputWidgets": {},
     "nuid": "ca29bc62-b992-4139-9908-fd9417fdb427",
     "showTitle": false,
     "tableResultSettingsMap": {},
     "title": ""
    }
   },
   "source": [
    "#### Complete OutputMode"
   ]
  },
  {
   "cell_type": "code",
   "execution_count": 0,
   "metadata": {
    "application/vnd.databricks.v1+cell": {
     "cellMetadata": {
      "byteLimit": 2048000,
      "implicitDf": true,
      "rowLimit": 10000
     },
     "inputWidgets": {},
     "nuid": "92c1a293-0f8b-4955-9ee3-2731ac613b10",
     "showTitle": false,
     "tableResultSettingsMap": {},
     "title": ""
    }
   },
   "outputs": [
    {
     "output_type": "execute_result",
     "data": {
      "text/plain": [
       "<delta.connect.tables.DeltaTable at 0x7fa9bbc78c80>"
      ]
     },
     "execution_count": 103,
     "metadata": {},
     "output_type": "execute_result"
    }
   ],
   "source": [
    "from delta.tables import DeltaTable\n",
    "\n",
    "DeltaTable.createOrReplace(spark)\\\n",
    "    .tableName(\"cat.streaming.source\")\\\n",
    "    .addColumn(\"color\", \"string\")\\\n",
    "    .execute()"
   ]
  },
  {
   "cell_type": "code",
   "execution_count": 0,
   "metadata": {
    "application/vnd.databricks.v1+cell": {
     "cellMetadata": {
      "byteLimit": 2048000,
      "implicitDf": true,
      "rowLimit": 10000
     },
     "inputWidgets": {},
     "nuid": "929c2aaa-cd0e-4780-a2a8-022e4bcf9cd9",
     "showTitle": false,
     "tableResultSettingsMap": {},
     "title": ""
    }
   },
   "outputs": [
    {
     "output_type": "display_data",
     "data": {
      "text/html": [
       "<style scoped>\n",
       "  .table-result-container {\n",
       "    max-height: 300px;\n",
       "    overflow: auto;\n",
       "  }\n",
       "  table, th, td {\n",
       "    border: 1px solid black;\n",
       "    border-collapse: collapse;\n",
       "  }\n",
       "  th, td {\n",
       "    padding: 5px;\n",
       "  }\n",
       "  th {\n",
       "    text-align: left;\n",
       "  }\n",
       "</style><div class='table-result-container'><table class='table-result'><thead style='background-color: white'><tr><th>num_affected_rows</th><th>num_inserted_rows</th></tr></thead><tbody><tr><td>3</td><td>3</td></tr></tbody></table></div>"
      ]
     },
     "metadata": {
      "application/vnd.databricks.v1+output": {
       "addedWidgets": {},
       "aggData": [],
       "aggError": "",
       "aggOverflow": false,
       "aggSchema": [],
       "aggSeriesLimitReached": false,
       "aggType": "",
       "arguments": {},
       "columnCustomDisplayInfos": {},
       "data": [
        [
         3,
         3
        ]
       ],
       "datasetInfos": [
        {
         "name": "_sqldf",
         "schema": {
          "fields": [
           {
            "metadata": {},
            "name": "num_affected_rows",
            "nullable": true,
            "type": "long"
           },
           {
            "metadata": {},
            "name": "num_inserted_rows",
            "nullable": true,
            "type": "long"
           }
          ],
          "type": "struct"
         },
         "tableIdentifier": null,
         "typeStr": "pyspark.sql.connect.dataframe.DataFrame"
        }
       ],
       "dbfsResultPath": null,
       "isJsonSchema": true,
       "metadata": {
        "createTempViewForImplicitDf": true,
        "dataframeName": "_sqldf",
        "executionCount": 110
       },
       "overflow": false,
       "plotOptions": {
        "customPlotOptions": {},
        "displayType": "table",
        "pivotAggregation": null,
        "pivotColumns": null,
        "xColumns": null,
        "yColumns": null
       },
       "removedWidgets": [],
       "schema": [
        {
         "metadata": "{}",
         "name": "num_affected_rows",
         "type": "\"long\""
        },
        {
         "metadata": "{}",
         "name": "num_inserted_rows",
         "type": "\"long\""
        }
       ],
       "type": "table"
      }
     },
     "output_type": "display_data"
    }
   ],
   "source": [
    "%sql\n",
    "insert into cat.streaming.source \n",
    "values \n",
    "('red'), ('green'), ('red');"
   ]
  },
  {
   "cell_type": "code",
   "execution_count": 0,
   "metadata": {
    "application/vnd.databricks.v1+cell": {
     "cellMetadata": {
      "byteLimit": 2048000,
      "rowLimit": 10000
     },
     "inputWidgets": {},
     "nuid": "cefd55f0-307c-4eb1-8725-087babc8215b",
     "showTitle": false,
     "tableResultSettingsMap": {},
     "title": ""
    }
   },
   "outputs": [
    {
     "output_type": "execute_result",
     "data": {
      "text/plain": [
       "<pyspark.sql.connect.streaming.query.StreamingQuery at 0x7fa9bdcc2c00>"
      ]
     },
     "execution_count": 112,
     "metadata": {},
     "output_type": "execute_result"
    }
   ],
   "source": [
    "df = spark.readStream.table(\"cat.streaming.source\")\n",
    "\n",
    "df_transform = df.groupBy(\"color\").count().alias(\"count\")\n",
    "\n",
    "df_transform.writeStream\\\n",
    "    .outputMode(\"complete\")\\\n",
    "    .format(\"delta\")\\\n",
    "    .option(\"checkpointLocation\", \"/Volumes/cat/streaming/datavol/sink2/checkpoint\")\\\n",
    "    .option(\"path\", \"/Volumes/cat/streaming/datavol/sink2/data\")\\\n",
    "    .trigger(once=True)\\\n",
    "    .start()\n"
   ]
  },
  {
   "cell_type": "code",
   "execution_count": 0,
   "metadata": {
    "application/vnd.databricks.v1+cell": {
     "cellMetadata": {
      "byteLimit": 2048000,
      "implicitDf": true,
      "rowLimit": 10000
     },
     "inputWidgets": {},
     "nuid": "2703ab63-d4e7-4344-9ccf-cd8c885631ea",
     "showTitle": false,
     "tableResultSettingsMap": {},
     "title": ""
    }
   },
   "outputs": [
    {
     "output_type": "display_data",
     "data": {
      "text/html": [
       "<style scoped>\n",
       "  .table-result-container {\n",
       "    max-height: 300px;\n",
       "    overflow: auto;\n",
       "  }\n",
       "  table, th, td {\n",
       "    border: 1px solid black;\n",
       "    border-collapse: collapse;\n",
       "  }\n",
       "  th, td {\n",
       "    padding: 5px;\n",
       "  }\n",
       "  th {\n",
       "    text-align: left;\n",
       "  }\n",
       "</style><div class='table-result-container'><table class='table-result'><thead style='background-color: white'><tr><th>color</th><th>count</th></tr></thead><tbody><tr><td>yellow</td><td>1</td></tr><tr><td>green</td><td>2</td></tr><tr><td>blue</td><td>1</td></tr><tr><td>red</td><td>4</td></tr></tbody></table></div>"
      ]
     },
     "metadata": {
      "application/vnd.databricks.v1+output": {
       "addedWidgets": {},
       "aggData": [],
       "aggError": "",
       "aggOverflow": false,
       "aggSchema": [],
       "aggSeriesLimitReached": false,
       "aggType": "",
       "arguments": {},
       "columnCustomDisplayInfos": {},
       "data": [
        [
         "yellow",
         1
        ],
        [
         "green",
         2
        ],
        [
         "blue",
         1
        ],
        [
         "red",
         4
        ]
       ],
       "datasetInfos": [
        {
         "name": "_sqldf",
         "schema": {
          "fields": [
           {
            "metadata": {},
            "name": "color",
            "nullable": true,
            "type": "string"
           },
           {
            "metadata": {},
            "name": "count",
            "nullable": true,
            "type": "long"
           }
          ],
          "type": "struct"
         },
         "tableIdentifier": null,
         "typeStr": "pyspark.sql.connect.dataframe.DataFrame"
        }
       ],
       "dbfsResultPath": null,
       "isJsonSchema": true,
       "metadata": {
        "createTempViewForImplicitDf": true,
        "dataframeName": "_sqldf",
        "executionCount": 113
       },
       "overflow": false,
       "plotOptions": {
        "customPlotOptions": {},
        "displayType": "table",
        "pivotAggregation": null,
        "pivotColumns": null,
        "xColumns": null,
        "yColumns": null
       },
       "removedWidgets": [],
       "schema": [
        {
         "metadata": "{}",
         "name": "color",
         "type": "\"string\""
        },
        {
         "metadata": "{}",
         "name": "count",
         "type": "\"long\""
        }
       ],
       "type": "table"
      }
     },
     "output_type": "display_data"
    }
   ],
   "source": [
    "%sql\n",
    "select * from delta.`/Volumes/cat/streaming/datavol/sink2/data`;"
   ]
  },
  {
   "cell_type": "markdown",
   "metadata": {
    "application/vnd.databricks.v1+cell": {
     "cellMetadata": {},
     "inputWidgets": {},
     "nuid": "76509aff-a694-411f-9ce1-13266e20e9b5",
     "showTitle": false,
     "tableResultSettingsMap": {},
     "title": ""
    }
   },
   "source": [
    "#### For Each Batch"
   ]
  },
  {
   "cell_type": "code",
   "execution_count": 0,
   "metadata": {
    "application/vnd.databricks.v1+cell": {
     "cellMetadata": {
      "byteLimit": 2048000,
      "rowLimit": 10000
     },
     "inputWidgets": {},
     "nuid": "c1235d18-189e-4e35-84d2-d62e83845b71",
     "showTitle": false,
     "tableResultSettingsMap": {},
     "title": ""
    }
   },
   "outputs": [],
   "source": [
    "def write_fn(df, batch_id):\n",
    "  df = df.groupBy(\"color\").count().alias(\"count\")\n",
    "\n",
    "  df.write.format(\"delta\")\\\n",
    "      .mode(\"append\")\\\n",
    "      .option(\"path\", \"/Volumes/cat/streaming/datavol/sink3/data1\")\\\n",
    "      .save()\n",
    "\n",
    "  df.write.format(\"delta\")\\\n",
    "      .mode(\"append\")\\\n",
    "      .option(\"path\", \"/Volumes/cat/streaming/datavol/sink3/data2\")\\\n",
    "      .save()"
   ]
  },
  {
   "cell_type": "code",
   "execution_count": 0,
   "metadata": {
    "application/vnd.databricks.v1+cell": {
     "cellMetadata": {
      "byteLimit": 2048000,
      "rowLimit": 10000
     },
     "inputWidgets": {},
     "nuid": "853aae93-6159-4826-b06a-a6c480314ee4",
     "showTitle": false,
     "tableResultSettingsMap": {},
     "title": ""
    }
   },
   "outputs": [
    {
     "output_type": "execute_result",
     "data": {
      "text/plain": [
       "<pyspark.sql.connect.streaming.query.StreamingQuery at 0x7fa9be8466f0>"
      ]
     },
     "execution_count": 124,
     "metadata": {},
     "output_type": "execute_result"
    }
   ],
   "source": [
    "df = spark.readStream.table(\"cat.streaming.source\")\n",
    "\n",
    "df.writeStream\\\n",
    "    .foreachBatch(write_fn)\\\n",
    "    .outputMode(\"append\")\\\n",
    "    .option(\"checkpointLocation\", \"/Volumes/cat/streaming/datavol/sink3/checkpoint\")\\\n",
    "    .trigger(availableNow=True)\\\n",
    "    .start()"
   ]
  },
  {
   "cell_type": "markdown",
   "metadata": {
    "application/vnd.databricks.v1+cell": {
     "cellMetadata": {},
     "inputWidgets": {},
     "nuid": "5f3b63c5-51af-40e3-9563-84e7db7cec8e",
     "showTitle": false,
     "tableResultSettingsMap": {},
     "title": ""
    }
   },
   "source": [
    "#### Tumbling Windows"
   ]
  },
  {
   "cell_type": "code",
   "execution_count": 0,
   "metadata": {
    "application/vnd.databricks.v1+cell": {
     "cellMetadata": {
      "byteLimit": 2048000,
      "rowLimit": 10000
     },
     "inputWidgets": {},
     "nuid": "4ba0f006-7050-4c2f-816d-04861d829ded",
     "showTitle": false,
     "tableResultSettingsMap": {},
     "title": ""
    }
   },
   "outputs": [
    {
     "output_type": "execute_result",
     "data": {
      "text/plain": [
       "<delta.connect.tables.DeltaTable at 0x7fa9bdc9dca0>"
      ]
     },
     "execution_count": 136,
     "metadata": {},
     "output_type": "execute_result"
    }
   ],
   "source": [
    "DeltaTable.createOrReplace(spark)\\\n",
    "    .tableName(\"cat.streaming.winsrc\")\\\n",
    "    .addColumn(\"color\", \"string\")\\\n",
    "    .addColumn(\"event_time\", \"timestamp\")\\\n",
    "    .execute()"
   ]
  },
  {
   "cell_type": "code",
   "execution_count": 0,
   "metadata": {
    "application/vnd.databricks.v1+cell": {
     "cellMetadata": {
      "byteLimit": 2048000,
      "implicitDf": true,
      "rowLimit": 10000
     },
     "inputWidgets": {},
     "nuid": "20a61712-e15d-4bf7-81d1-51ee15bdffd4",
     "showTitle": false,
     "tableResultSettingsMap": {},
     "title": ""
    }
   },
   "outputs": [
    {
     "output_type": "display_data",
     "data": {
      "text/html": [
       "<style scoped>\n",
       "  .table-result-container {\n",
       "    max-height: 300px;\n",
       "    overflow: auto;\n",
       "  }\n",
       "  table, th, td {\n",
       "    border: 1px solid black;\n",
       "    border-collapse: collapse;\n",
       "  }\n",
       "  th, td {\n",
       "    padding: 5px;\n",
       "  }\n",
       "  th {\n",
       "    text-align: left;\n",
       "  }\n",
       "</style><div class='table-result-container'><table class='table-result'><thead style='background-color: white'><tr><th>num_affected_rows</th><th>num_inserted_rows</th></tr></thead><tbody><tr><td>1</td><td>1</td></tr></tbody></table></div>"
      ]
     },
     "metadata": {
      "application/vnd.databricks.v1+output": {
       "addedWidgets": {},
       "aggData": [],
       "aggError": "",
       "aggOverflow": false,
       "aggSchema": [],
       "aggSeriesLimitReached": false,
       "aggType": "",
       "arguments": {},
       "columnCustomDisplayInfos": {},
       "data": [
        [
         1,
         1
        ]
       ],
       "datasetInfos": [
        {
         "name": "_sqldf",
         "schema": {
          "fields": [
           {
            "metadata": {},
            "name": "num_affected_rows",
            "nullable": true,
            "type": "long"
           },
           {
            "metadata": {},
            "name": "num_inserted_rows",
            "nullable": true,
            "type": "long"
           }
          ],
          "type": "struct"
         },
         "tableIdentifier": null,
         "typeStr": "pyspark.sql.connect.dataframe.DataFrame"
        }
       ],
       "dbfsResultPath": null,
       "isJsonSchema": true,
       "metadata": {
        "createTempViewForImplicitDf": true,
        "dataframeName": "_sqldf",
        "executionCount": 149
       },
       "overflow": false,
       "plotOptions": {
        "customPlotOptions": {},
        "displayType": "table",
        "pivotAggregation": null,
        "pivotColumns": null,
        "xColumns": null,
        "yColumns": null
       },
       "removedWidgets": [],
       "schema": [
        {
         "metadata": "{}",
         "name": "num_affected_rows",
         "type": "\"long\""
        },
        {
         "metadata": "{}",
         "name": "num_inserted_rows",
         "type": "\"long\""
        }
       ],
       "type": "table"
      }
     },
     "output_type": "display_data"
    }
   ],
   "source": [
    "%sql\n",
    "insert into cat.streaming.winsrc\n",
    "values\n",
    "('red', '2025-08-27 09:07:00')"
   ]
  },
  {
   "cell_type": "code",
   "execution_count": 0,
   "metadata": {
    "application/vnd.databricks.v1+cell": {
     "cellMetadata": {
      "byteLimit": 2048000,
      "rowLimit": 10000
     },
     "inputWidgets": {},
     "nuid": "8f7d0179-549f-40c6-8f0f-c76ca466d339",
     "showTitle": false,
     "tableResultSettingsMap": {},
     "title": ""
    }
   },
   "outputs": [
    {
     "output_type": "execute_result",
     "data": {
      "text/plain": [
       "<pyspark.sql.connect.streaming.query.StreamingQuery at 0x7fa9b1310aa0>"
      ]
     },
     "execution_count": 150,
     "metadata": {},
     "output_type": "execute_result"
    }
   ],
   "source": [
    "df = spark.readStream.table(\"cat.streaming.winsrc\")\n",
    "\n",
    "df = df.groupBy(\"color\", window(\"event_time\", \"10 minutes\")).count().alias(\"count\")\n",
    "\n",
    "df.writeStream\\\n",
    "    .outputMode(\"complete\")\\\n",
    "    .format(\"delta\")\\\n",
    "    .option(\"path\", \"/Volumes/cat/streaming/datavol/sink4/data\")\\\n",
    "    .option(\"checkpointLocation\", \"/Volumes/cat/streaming/datavol/sink4/checkpoint\")\\\n",
    "    .trigger(once=True)\\\n",
    "    .start()"
   ]
  },
  {
   "cell_type": "code",
   "execution_count": 0,
   "metadata": {
    "application/vnd.databricks.v1+cell": {
     "cellMetadata": {
      "byteLimit": 2048000,
      "implicitDf": true,
      "rowLimit": 10000
     },
     "inputWidgets": {},
     "nuid": "c4690ecf-e76c-4adf-96a0-1df82437ab3d",
     "showTitle": false,
     "tableResultSettingsMap": {},
     "title": ""
    }
   },
   "outputs": [
    {
     "output_type": "display_data",
     "data": {
      "text/html": [
       "<style scoped>\n",
       "  .table-result-container {\n",
       "    max-height: 300px;\n",
       "    overflow: auto;\n",
       "  }\n",
       "  table, th, td {\n",
       "    border: 1px solid black;\n",
       "    border-collapse: collapse;\n",
       "  }\n",
       "  th, td {\n",
       "    padding: 5px;\n",
       "  }\n",
       "  th {\n",
       "    text-align: left;\n",
       "  }\n",
       "</style><div class='table-result-container'><table class='table-result'><thead style='background-color: white'><tr><th>color</th><th>window</th><th>count</th></tr></thead><tbody><tr><td>green</td><td>List(2025-08-27T09:00:00.000Z, 2025-08-27T09:10:00.000Z)</td><td>1</td></tr><tr><td>red</td><td>List(2025-08-27T09:10:00.000Z, 2025-08-27T09:20:00.000Z)</td><td>1</td></tr><tr><td>red</td><td>List(2025-08-27T09:00:00.000Z, 2025-08-27T09:10:00.000Z)</td><td>2</td></tr></tbody></table></div>"
      ]
     },
     "metadata": {
      "application/vnd.databricks.v1+output": {
       "addedWidgets": {},
       "aggData": [],
       "aggError": "",
       "aggOverflow": false,
       "aggSchema": [],
       "aggSeriesLimitReached": false,
       "aggType": "",
       "arguments": {},
       "columnCustomDisplayInfos": {},
       "data": [
        [
         "green",
         [
          "2025-08-27T09:00:00.000Z",
          "2025-08-27T09:10:00.000Z"
         ],
         1
        ],
        [
         "red",
         [
          "2025-08-27T09:10:00.000Z",
          "2025-08-27T09:20:00.000Z"
         ],
         1
        ],
        [
         "red",
         [
          "2025-08-27T09:00:00.000Z",
          "2025-08-27T09:10:00.000Z"
         ],
         2
        ]
       ],
       "datasetInfos": [
        {
         "name": "_sqldf",
         "schema": {
          "fields": [
           {
            "metadata": {},
            "name": "color",
            "nullable": true,
            "type": "string"
           },
           {
            "metadata": {
             "spark.timeWindow": true
            },
            "name": "window",
            "nullable": true,
            "type": {
             "fields": [
              {
               "metadata": {},
               "name": "start",
               "nullable": true,
               "type": "timestamp"
              },
              {
               "metadata": {},
               "name": "end",
               "nullable": true,
               "type": "timestamp"
              }
             ],
             "type": "struct"
            }
           },
           {
            "metadata": {},
            "name": "count",
            "nullable": true,
            "type": "long"
           }
          ],
          "type": "struct"
         },
         "tableIdentifier": null,
         "typeStr": "pyspark.sql.connect.dataframe.DataFrame"
        }
       ],
       "dbfsResultPath": null,
       "isJsonSchema": true,
       "metadata": {
        "createTempViewForImplicitDf": true,
        "dataframeName": "_sqldf",
        "executionCount": 151
       },
       "overflow": false,
       "plotOptions": {
        "customPlotOptions": {},
        "displayType": "table",
        "pivotAggregation": null,
        "pivotColumns": null,
        "xColumns": null,
        "yColumns": null
       },
       "removedWidgets": [],
       "schema": [
        {
         "metadata": "{}",
         "name": "color",
         "type": "\"string\""
        },
        {
         "metadata": "{\"spark.timeWindow\": true}",
         "name": "window",
         "type": "{\"fields\":[{\"metadata\":{},\"name\":\"start\",\"nullable\":true,\"type\":\"timestamp\"},{\"metadata\":{},\"name\":\"end\",\"nullable\":true,\"type\":\"timestamp\"}],\"type\":\"struct\"}"
        },
        {
         "metadata": "{}",
         "name": "count",
         "type": "\"long\""
        }
       ],
       "type": "table"
      }
     },
     "output_type": "display_data"
    }
   ],
   "source": [
    "%sql\n",
    "select * from delta.`/Volumes/cat/streaming/datavol/sink4/data`;"
   ]
  },
  {
   "cell_type": "code",
   "execution_count": 0,
   "metadata": {
    "application/vnd.databricks.v1+cell": {
     "cellMetadata": {},
     "inputWidgets": {},
     "nuid": "4d0af419-01eb-4aaa-821e-28d595caef67",
     "showTitle": false,
     "tableResultSettingsMap": {},
     "title": ""
    }
   },
   "outputs": [],
   "source": []
  }
 ],
 "metadata": {
  "application/vnd.databricks.v1+notebook": {
   "computePreferences": null,
   "dashboards": [],
   "environmentMetadata": {
    "base_environment": "",
    "environment_version": "3"
   },
   "inputWidgetPreferences": null,
   "language": "python",
   "notebookMetadata": {
    "mostRecentlyExecutedCommandWithImplicitDF": {
     "commandId": 8178126645423435,
     "dataframes": [
      "_sqldf"
     ]
    },
    "pythonIndentUnit": 4
   },
   "notebookName": "structured_streaming",
   "widgets": {}
  },
  "language_info": {
   "name": "python"
  }
 },
 "nbformat": 4,
 "nbformat_minor": 0
}